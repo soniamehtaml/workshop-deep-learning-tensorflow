{
 "cells": [
  {
   "cell_type": "markdown",
   "metadata": {},
   "source": [
    "# Building a deep learning model with tensorflow keras for non linear classification problem\n",
    " \n",
    "There are four steps to build and use a machine learning model.\n",
    "\n",
    "- **Preprocessing** : feature selection, ramdomize, normalize, shuffle, EDA, split train test\n",
    "- **Learning** : implementing the model\n",
    "- **Evaluation** : metrics ( true positive, false positive...etc), tests, overfitting undertitting, hyper tunnin\n",
    "- **Prediction** on new unseen data"
   ]
  },
  {
   "cell_type": "markdown",
   "metadata": {},
   "source": [
    "## Problem context\n",
    "\n",
    "You will implement a deep learning model to predict whether microchips from a fabrication plant passes quality assurance (QA). During QA, each microchip goes through various tests to ensure it is functioning correctly.\n",
    "Suppose you are the product manager of the factory and you have the test results for some microchips on two different tests. From these two tests, you would like to determine whether the microchips should be accepted or rejected. To help you make the decision, you have a dataset of test results on past microchips, from which you can build a logistic regression model."
   ]
  },
  {
   "cell_type": "markdown",
   "metadata": {},
   "source": [
    "## 1 -  Preprocessing et EDA\n",
    "\n",
    "La première étape consiste à charger puis visualizer puis analyser les données"
   ]
  },
  {
   "cell_type": "code",
   "execution_count": 1,
   "metadata": {},
   "outputs": [],
   "source": [
    "import os\n",
    "\n",
    "os.environ['KMP_DUPLICATE_LIB_OK']='True'\n",
    "\n",
    "%matplotlib inline\n",
    "\n",
    "import matplotlib.pyplot as plt\n",
    "import numpy as np\n",
    "import pandas as pd\n",
    "import seaborn as sns\n",
    "\n",
    "np.random.seed(43)\n",
    "\n",
    "#fonction utilitaire pour afficher les points\n",
    "\n",
    "def plot_points(X, y):\n",
    "    sns.scatterplot(X[:, 0], X[:, 1], hue=y.flatten(), cmap=plt.cm.coolwarm, s=30, edgecolors='k')\n",
    "    plt.show()\n",
    "    \n",
    "# fonction utilitaire pour randomiser les données (shuffle)\n",
    "def randomize(X, Y):\n",
    "    permutation = np.random.permutation(Y.shape[0])\n",
    "    X2 = X[permutation,:]\n",
    "    Y2 = Y[permutation]\n",
    "    Y2[Y2 == -1] = 0 \n",
    "    return X2, Y2  \n",
    "\n",
    "# fonction utilitaire pour split les données en test et train sets\n",
    "def split_train_test(data, test_size):\n",
    "    sample = np.random.choice(data.index, size=int(len(data)*(1 - test_size)), replace=False)\n",
    "    train_data, test_data = data.iloc[sample], data.drop(sample)\n",
    "    return train_data, test_data "
   ]
  },
  {
   "cell_type": "markdown",
   "metadata": {},
   "source": [
    "### Load data"
   ]
  },
  {
   "cell_type": "code",
   "execution_count": 2,
   "metadata": {},
   "outputs": [
    {
     "data": {
      "text/html": [
       "<div>\n",
       "<style scoped>\n",
       "    .dataframe tbody tr th:only-of-type {\n",
       "        vertical-align: middle;\n",
       "    }\n",
       "\n",
       "    .dataframe tbody tr th {\n",
       "        vertical-align: top;\n",
       "    }\n",
       "\n",
       "    .dataframe thead th {\n",
       "        text-align: right;\n",
       "    }\n",
       "</style>\n",
       "<table border=\"1\" class=\"dataframe\">\n",
       "  <thead>\n",
       "    <tr style=\"text-align: right;\">\n",
       "      <th></th>\n",
       "      <th>test1</th>\n",
       "      <th>test2</th>\n",
       "      <th>result</th>\n",
       "    </tr>\n",
       "  </thead>\n",
       "  <tbody>\n",
       "    <tr>\n",
       "      <th>0</th>\n",
       "      <td>0.336494</td>\n",
       "      <td>-0.985951</td>\n",
       "      <td>-1.0</td>\n",
       "    </tr>\n",
       "    <tr>\n",
       "      <th>1</th>\n",
       "      <td>-0.011043</td>\n",
       "      <td>-0.105529</td>\n",
       "      <td>1.0</td>\n",
       "    </tr>\n",
       "    <tr>\n",
       "      <th>2</th>\n",
       "      <td>0.238160</td>\n",
       "      <td>-0.617417</td>\n",
       "      <td>1.0</td>\n",
       "    </tr>\n",
       "    <tr>\n",
       "      <th>3</th>\n",
       "      <td>-0.366783</td>\n",
       "      <td>-0.713819</td>\n",
       "      <td>1.0</td>\n",
       "    </tr>\n",
       "    <tr>\n",
       "      <th>4</th>\n",
       "      <td>1.221923</td>\n",
       "      <td>-1.039399</td>\n",
       "      <td>-1.0</td>\n",
       "    </tr>\n",
       "  </tbody>\n",
       "</table>\n",
       "</div>"
      ],
      "text/plain": [
       "      test1     test2  result\n",
       "0  0.336494 -0.985951    -1.0\n",
       "1 -0.011043 -0.105529     1.0\n",
       "2  0.238160 -0.617417     1.0\n",
       "3 -0.366783 -0.713819     1.0\n",
       "4  1.221923 -1.039399    -1.0"
      ]
     },
     "execution_count": 2,
     "metadata": {},
     "output_type": "execute_result"
    }
   ],
   "source": [
    "data = pd.read_csv('https://raw.githubusercontent.com/hzitoun/workshop-deep-learning-tensorflow/master/microships_QA.csv');\n",
    "data.head()"
   ]
  },
  {
   "cell_type": "markdown",
   "metadata": {},
   "source": [
    "### Split data into train and test sets\n",
    "\n",
    "In order to test our algorithm, we'll split the data into a Training and a Testing set."
   ]
  },
  {
   "cell_type": "code",
   "execution_count": 3,
   "metadata": {},
   "outputs": [],
   "source": [
    "train_data, test_data = split_train_test(data, test_size=0.1)"
   ]
  },
  {
   "cell_type": "markdown",
   "metadata": {},
   "source": [
    "### Extract features and target columns"
   ]
  },
  {
   "cell_type": "code",
   "execution_count": 4,
   "metadata": {},
   "outputs": [
    {
     "name": "stdout",
     "output_type": "stream",
     "text": [
      "Shape of X_train =  (90, 2) Shape of y_train= (90, 1) \n",
      "\n",
      "Shape of X_test =  (10, 2) Shape of y_test = (10, 1) \n",
      "\n"
     ]
    }
   ],
   "source": [
    "X_train = np.array(train_data.drop('result', axis=1))\n",
    "y_train = np.array(train_data['result']).reshape(-1, 1)\n",
    "X_test = np.array(test_data.drop('result', axis=1))\n",
    "y_test = np.array(test_data['result']).reshape(-1, 1)\n",
    "\n",
    "print(\"Shape of X_train = \", X_train.shape, \"Shape of y_train=\", y_train.shape, \"\\n\")\n",
    "print(\"Shape of X_test = \",  X_test.shape, \"Shape of y_test =\",  y_test.shape, \"\\n\")"
   ]
  },
  {
   "cell_type": "markdown",
   "metadata": {},
   "source": [
    "### Randomize features and target columns"
   ]
  },
  {
   "cell_type": "code",
   "execution_count": 5,
   "metadata": {},
   "outputs": [],
   "source": [
    "X_train, y_train = randomize(X_train, y_train)\n",
    "X_test, y_test = randomize(X_test, y_test)"
   ]
  },
  {
   "cell_type": "markdown",
   "metadata": {},
   "source": [
    "### Visualize dataset"
   ]
  },
  {
   "cell_type": "code",
   "execution_count": 6,
   "metadata": {},
   "outputs": [
    {
     "data": {
      "image/png": "[encoded data removed]",
      "text/plain": [
       "<Figure size 432x288 with 1 Axes>"
      ]
     },
     "metadata": {
      "needs_background": "light"
     },
     "output_type": "display_data"
    }
   ],
   "source": [
    "plot_points(X_train, y_train)"
   ]
  },
  {
   "cell_type": "markdown",
   "metadata": {},
   "source": [
    "## 2 -  Implementing the deep learning model in tf.keras"
   ]
  },
  {
   "cell_type": "code",
   "execution_count": 7,
   "metadata": {},
   "outputs": [],
   "source": [
    "import tensorflow as tf\n",
    "from tensorflow.keras import layers"
   ]
  },
  {
   "cell_type": "code",
   "execution_count": 32,
   "metadata": {},
   "outputs": [
    {
     "name": "stdout",
     "output_type": "stream",
     "text": [
      "1.13.1\n",
      "2.2.4-tf\n"
     ]
    }
   ],
   "source": [
    "print(tf.VERSION)\n",
    "print(tf.keras.__version__)"
   ]
  },
  {
   "cell_type": "markdown",
   "metadata": {},
   "source": [
    "**Get Reproducible Results with Keras by Seeding Random Numbers with the TensorFlow Backend**"
   ]
  },
  {
   "cell_type": "code",
   "execution_count": 36,
   "metadata": {},
   "outputs": [],
   "source": [
    "from numpy.random import seed\n",
    "seed(1)\n",
    "from tensorflow import set_random_seed\n",
    "set_random_seed(2)"
   ]
  },
  {
   "cell_type": "code",
   "execution_count": 37,
   "metadata": {},
   "outputs": [],
   "source": [
    "# Create the Sequential model\n",
    "model =  tf.keras.Sequential()\n",
    "\n",
    "# 1st Layer - Add an input layer of 32 nodes with the same input shape as\n",
    "# the training samples in X\n",
    "# kernel_regularizer=tf.keras.regularizers.l1(0.01)\n",
    "model.add(layers.Dense(1, input_dim=X_train.shape[1]))\n",
    "\n",
    "\n",
    "# Add a sigmoid activation layer\n",
    "model.add(layers.Activation('sigmoid')) # output will be one neuro having value between 0 and 1, \n",
    "# to make it True or False just compare to 0.5\n",
    "# or convert to y_train_binary = keras.utils.to_categorical(y_train, num_classes)\n",
    "# model.add(Dense(num_classes, activation='softmax')) and then softmax it (output will be two neurons)\n",
    "\n",
    "\n",
    "# or in one line\n",
    "# layers.Dense(64, activation='sigmoid')\n",
    "# Or:\n",
    "# layers.Dense(64, activation=tf.sigmoid) \n",
    "\n",
    "\n",
    "# OR \n",
    "\n",
    "#model = tf.keras.Sequential([\n",
    "#  layers.Dense(10, activation='softmax', input_shape=(32,)),\n",
    "#  layers.Dense(10, activation='softmax')\n",
    "#])"
   ]
  },
  {
   "cell_type": "code",
   "execution_count": 38,
   "metadata": {},
   "outputs": [],
   "source": [
    "model.compile(loss='mean_squared_error', optimizer='sgd', metrics = [\"accuracy\"])"
   ]
  },
  {
   "cell_type": "code",
   "execution_count": 39,
   "metadata": {},
   "outputs": [
    {
     "name": "stdout",
     "output_type": "stream",
     "text": [
      "_________________________________________________________________\n",
      "Layer (type)                 Output Shape              Param #   \n",
      "=================================================================\n",
      "dense_5 (Dense)              (None, 1)                 3         \n",
      "_________________________________________________________________\n",
      "activation_5 (Activation)    (None, 1)                 0         \n",
      "=================================================================\n",
      "Total params: 3\n",
      "Trainable params: 3\n",
      "Non-trainable params: 0\n",
      "_________________________________________________________________\n"
     ]
    }
   ],
   "source": [
    "model.summary()"
   ]
  },
  {
   "cell_type": "code",
   "execution_count": 40,
   "metadata": {},
   "outputs": [
    {
     "name": "stdout",
     "output_type": "stream",
     "text": [
      "Epoch 1/100\n",
      "90/90 [==============================] - 0s 4ms/sample - loss: 0.2785 - acc: 0.5556\n",
      "Epoch 2/100\n",
      "90/90 [==============================] - 0s 1ms/sample - loss: 0.2764 - acc: 0.5778\n",
      "Epoch 3/100\n",
      "90/90 [==============================] - 0s 1ms/sample - loss: 0.2745 - acc: 0.6000\n",
      "Epoch 4/100\n",
      "90/90 [==============================] - 0s 1ms/sample - loss: 0.2727 - acc: 0.6000\n",
      "Epoch 5/100\n",
      "90/90 [==============================] - 0s 1ms/sample - loss: 0.2711 - acc: 0.6111\n",
      "Epoch 6/100\n",
      "90/90 [==============================] - 0s 1ms/sample - loss: 0.2696 - acc: 0.6222\n",
      "Epoch 7/100\n",
      "90/90 [==============================] - 0s 1ms/sample - loss: 0.2682 - acc: 0.6333\n",
      "Epoch 8/100\n",
      "90/90 [==============================] - 0s 1ms/sample - loss: 0.2669 - acc: 0.6333\n",
      "Epoch 9/100\n",
      "90/90 [==============================] - 0s 1ms/sample - loss: 0.2657 - acc: 0.6333\n",
      "Epoch 10/100\n",
      "90/90 [==============================] - 0s 1ms/sample - loss: 0.2646 - acc: 0.6444\n",
      "Epoch 11/100\n",
      "90/90 [==============================] - 0s 1ms/sample - loss: 0.2636 - acc: 0.6444\n",
      "Epoch 12/100\n",
      "90/90 [==============================] - 0s 1ms/sample - loss: 0.2627 - acc: 0.6333\n",
      "Epoch 13/100\n",
      "90/90 [==============================] - 0s 1ms/sample - loss: 0.2618 - acc: 0.6333\n",
      "Epoch 14/100\n",
      "90/90 [==============================] - 0s 1ms/sample - loss: 0.2610 - acc: 0.6444\n",
      "Epoch 15/100\n",
      "90/90 [==============================] - 0s 1ms/sample - loss: 0.2602 - acc: 0.6444\n",
      "Epoch 16/100\n",
      "90/90 [==============================] - 0s 1ms/sample - loss: 0.2595 - acc: 0.6444\n",
      "Epoch 17/100\n",
      "90/90 [==============================] - 0s 1ms/sample - loss: 0.2588 - acc: 0.6556\n",
      "Epoch 18/100\n",
      "90/90 [==============================] - 0s 1ms/sample - loss: 0.2581 - acc: 0.6667\n",
      "Epoch 19/100\n",
      "90/90 [==============================] - 0s 1ms/sample - loss: 0.2575 - acc: 0.6667\n",
      "Epoch 20/100\n",
      "90/90 [==============================] - 0s 1ms/sample - loss: 0.2569 - acc: 0.6667\n",
      "Epoch 21/100\n",
      "90/90 [==============================] - 0s 1ms/sample - loss: 0.2563 - acc: 0.6556\n",
      "Epoch 22/100\n",
      "90/90 [==============================] - 0s 1ms/sample - loss: 0.2558 - acc: 0.6667\n",
      "Epoch 23/100\n",
      "90/90 [==============================] - 0s 1ms/sample - loss: 0.2553 - acc: 0.6667\n",
      "Epoch 24/100\n",
      "90/90 [==============================] - 0s 1ms/sample - loss: 0.2548 - acc: 0.6667\n",
      "Epoch 25/100\n",
      "90/90 [==============================] - 0s 1ms/sample - loss: 0.2543 - acc: 0.6667\n",
      "Epoch 26/100\n",
      "90/90 [==============================] - 0s 1ms/sample - loss: 0.2539 - acc: 0.6667\n",
      "Epoch 27/100\n",
      "90/90 [==============================] - 0s 1ms/sample - loss: 0.2534 - acc: 0.6778\n",
      "Epoch 28/100\n",
      "90/90 [==============================] - 0s 1ms/sample - loss: 0.2530 - acc: 0.6778\n",
      "Epoch 29/100\n",
      "90/90 [==============================] - 0s 1ms/sample - loss: 0.2526 - acc: 0.6778\n",
      "Epoch 30/100\n",
      "90/90 [==============================] - 0s 1ms/sample - loss: 0.2523 - acc: 0.6556\n",
      "Epoch 31/100\n",
      "90/90 [==============================] - 0s 1ms/sample - loss: 0.2519 - acc: 0.6889\n",
      "Epoch 32/100\n",
      "90/90 [==============================] - 0s 1ms/sample - loss: 0.2515 - acc: 0.6778\n",
      "Epoch 33/100\n",
      "90/90 [==============================] - 0s 1ms/sample - loss: 0.2512 - acc: 0.6778\n",
      "Epoch 34/100\n",
      "90/90 [==============================] - 0s 1ms/sample - loss: 0.2509 - acc: 0.6889\n",
      "Epoch 35/100\n",
      "90/90 [==============================] - 0s 1ms/sample - loss: 0.2506 - acc: 0.6778\n",
      "Epoch 36/100\n",
      "90/90 [==============================] - 0s 1ms/sample - loss: 0.2503 - acc: 0.6778\n",
      "Epoch 37/100\n",
      "90/90 [==============================] - 0s 1ms/sample - loss: 0.2500 - acc: 0.6889\n",
      "Epoch 38/100\n",
      "90/90 [==============================] - 0s 1ms/sample - loss: 0.2497 - acc: 0.6778\n",
      "Epoch 39/100\n",
      "90/90 [==============================] - 0s 1ms/sample - loss: 0.2495 - acc: 0.6778\n",
      "Epoch 40/100\n",
      "90/90 [==============================] - 0s 1ms/sample - loss: 0.2492 - acc: 0.6556\n",
      "Epoch 41/100\n",
      "90/90 [==============================] - 0s 1ms/sample - loss: 0.2490 - acc: 0.6556\n",
      "Epoch 42/100\n",
      "90/90 [==============================] - 0s 1ms/sample - loss: 0.2488 - acc: 0.6556\n",
      "Epoch 43/100\n",
      "90/90 [==============================] - 0s 1ms/sample - loss: 0.2486 - acc: 0.6667\n",
      "Epoch 44/100\n",
      "90/90 [==============================] - 0s 1ms/sample - loss: 0.2484 - acc: 0.6444\n",
      "Epoch 45/100\n",
      "90/90 [==============================] - 0s 1ms/sample - loss: 0.2482 - acc: 0.6556\n",
      "Epoch 46/100\n",
      "90/90 [==============================] - 0s 1ms/sample - loss: 0.2480 - acc: 0.6667\n",
      "Epoch 47/100\n",
      "90/90 [==============================] - 0s 1ms/sample - loss: 0.2478 - acc: 0.6556\n",
      "Epoch 48/100\n",
      "90/90 [==============================] - 0s 1ms/sample - loss: 0.2477 - acc: 0.6667\n",
      "Epoch 49/100\n",
      "90/90 [==============================] - 0s 1ms/sample - loss: 0.2475 - acc: 0.6667\n",
      "Epoch 50/100\n",
      "90/90 [==============================] - 0s 1ms/sample - loss: 0.2474 - acc: 0.6667\n",
      "Epoch 51/100\n",
      "90/90 [==============================] - 0s 1ms/sample - loss: 0.2473 - acc: 0.6667\n",
      "Epoch 52/100\n",
      "90/90 [==============================] - 0s 1ms/sample - loss: 0.2471 - acc: 0.6778\n",
      "Epoch 53/100\n",
      "90/90 [==============================] - 0s 1ms/sample - loss: 0.2470 - acc: 0.6778\n",
      "Epoch 54/100\n",
      "90/90 [==============================] - 0s 1ms/sample - loss: 0.2469 - acc: 0.6667\n",
      "Epoch 55/100\n",
      "90/90 [==============================] - 0s 1ms/sample - loss: 0.2468 - acc: 0.6778\n",
      "Epoch 56/100\n",
      "90/90 [==============================] - 0s 1ms/sample - loss: 0.2467 - acc: 0.6667\n",
      "Epoch 57/100\n",
      "90/90 [==============================] - 0s 1ms/sample - loss: 0.2466 - acc: 0.6889\n",
      "Epoch 58/100\n",
      "90/90 [==============================] - 0s 1ms/sample - loss: 0.2465 - acc: 0.6556\n",
      "Epoch 59/100\n",
      "90/90 [==============================] - 0s 1ms/sample - loss: 0.2464 - acc: 0.6556\n",
      "Epoch 60/100\n",
      "90/90 [==============================] - 0s 1ms/sample - loss: 0.2464 - acc: 0.6778\n",
      "Epoch 61/100\n",
      "90/90 [==============================] - 0s 1ms/sample - loss: 0.2463 - acc: 0.6556\n",
      "Epoch 62/100\n",
      "90/90 [==============================] - 0s 1ms/sample - loss: 0.2462 - acc: 0.6556\n",
      "Epoch 63/100\n",
      "90/90 [==============================] - 0s 1ms/sample - loss: 0.2462 - acc: 0.6556\n",
      "Epoch 64/100\n",
      "90/90 [==============================] - 0s 1ms/sample - loss: 0.2461 - acc: 0.6889\n",
      "Epoch 65/100\n",
      "90/90 [==============================] - 0s 1ms/sample - loss: 0.2461 - acc: 0.6778\n",
      "Epoch 66/100\n",
      "90/90 [==============================] - 0s 1ms/sample - loss: 0.2460 - acc: 0.6778\n",
      "Epoch 67/100\n",
      "90/90 [==============================] - 0s 1ms/sample - loss: 0.2460 - acc: 0.6556\n",
      "Epoch 68/100\n",
      "90/90 [==============================] - 0s 1ms/sample - loss: 0.2459 - acc: 0.6778\n",
      "Epoch 69/100\n",
      "90/90 [==============================] - 0s 1ms/sample - loss: 0.2459 - acc: 0.6667\n",
      "Epoch 70/100\n",
      "90/90 [==============================] - 0s 1ms/sample - loss: 0.2459 - acc: 0.6778\n",
      "Epoch 71/100\n",
      "90/90 [==============================] - 0s 1ms/sample - loss: 0.2458 - acc: 0.6889\n",
      "Epoch 72/100\n",
      "90/90 [==============================] - 0s 1ms/sample - loss: 0.2458 - acc: 0.6778\n",
      "Epoch 73/100\n",
      "90/90 [==============================] - 0s 1ms/sample - loss: 0.2458 - acc: 0.6778\n",
      "Epoch 74/100\n",
      "90/90 [==============================] - 0s 1ms/sample - loss: 0.2458 - acc: 0.6889\n",
      "Epoch 75/100\n",
      "90/90 [==============================] - 0s 1ms/sample - loss: 0.2457 - acc: 0.6556\n",
      "Epoch 76/100\n",
      "90/90 [==============================] - 0s 1ms/sample - loss: 0.2457 - acc: 0.6778\n",
      "Epoch 77/100\n",
      "90/90 [==============================] - 0s 1ms/sample - loss: 0.2457 - acc: 0.6889\n",
      "Epoch 78/100\n",
      "90/90 [==============================] - 0s 1ms/sample - loss: 0.2457 - acc: 0.6889\n",
      "Epoch 79/100\n",
      "90/90 [==============================] - 0s 1ms/sample - loss: 0.2457 - acc: 0.6444\n",
      "Epoch 80/100\n",
      "90/90 [==============================] - 0s 1ms/sample - loss: 0.2457 - acc: 0.6667\n",
      "Epoch 81/100\n",
      "90/90 [==============================] - 0s 1ms/sample - loss: 0.2456 - acc: 0.6778\n",
      "Epoch 82/100\n",
      "90/90 [==============================] - 0s 1ms/sample - loss: 0.2456 - acc: 0.6444\n",
      "Epoch 83/100\n",
      "90/90 [==============================] - 0s 1ms/sample - loss: 0.2456 - acc: 0.6556\n",
      "Epoch 84/100\n",
      "90/90 [==============================] - 0s 1ms/sample - loss: 0.2456 - acc: 0.6889\n",
      "Epoch 85/100\n",
      "90/90 [==============================] - 0s 1ms/sample - loss: 0.2456 - acc: 0.6778\n",
      "Epoch 86/100\n",
      "90/90 [==============================] - 0s 1ms/sample - loss: 0.2456 - acc: 0.6778\n",
      "Epoch 87/100\n",
      "90/90 [==============================] - 0s 1ms/sample - loss: 0.2456 - acc: 0.6556\n",
      "Epoch 88/100\n",
      "90/90 [==============================] - 0s 1ms/sample - loss: 0.2456 - acc: 0.6556\n",
      "Epoch 89/100\n",
      "90/90 [==============================] - 0s 1ms/sample - loss: 0.2456 - acc: 0.6778\n",
      "Epoch 90/100\n",
      "90/90 [==============================] - 0s 1ms/sample - loss: 0.2456 - acc: 0.6667\n",
      "Epoch 91/100\n",
      "90/90 [==============================] - 0s 1ms/sample - loss: 0.2456 - acc: 0.6889\n",
      "Epoch 92/100\n",
      "90/90 [==============================] - 0s 1ms/sample - loss: 0.2456 - acc: 0.6667\n",
      "Epoch 93/100\n",
      "90/90 [==============================] - 0s 1ms/sample - loss: 0.2455 - acc: 0.6778\n",
      "Epoch 94/100\n",
      "90/90 [==============================] - 0s 1ms/sample - loss: 0.2455 - acc: 0.7000\n",
      "Epoch 95/100\n",
      "90/90 [==============================] - 0s 1ms/sample - loss: 0.2455 - acc: 0.6889\n",
      "Epoch 96/100\n",
      "90/90 [==============================] - 0s 1ms/sample - loss: 0.2455 - acc: 0.6778\n",
      "Epoch 97/100\n",
      "90/90 [==============================] - 0s 1ms/sample - loss: 0.2455 - acc: 0.6778\n",
      "Epoch 98/100\n",
      "90/90 [==============================] - 0s 1ms/sample - loss: 0.2455 - acc: 0.6778\n",
      "Epoch 99/100\n",
      "90/90 [==============================] - 0s 1ms/sample - loss: 0.2455 - acc: 0.6778\n",
      "Epoch 100/100\n",
      "90/90 [==============================] - 0s 1ms/sample - loss: 0.2455 - acc: 0.6444\n"
     ]
    }
   ],
   "source": [
    "tb = tf.keras.callbacks.TensorBoard(log_dir='./logs', histogram_freq=0, batch_size=32, \n",
    "                                 write_graph=True, \n",
    "                                 write_grads=False, write_images=False, \n",
    "                                 embeddings_freq=0, \n",
    "                                 embeddings_layer_names=None, \n",
    "                                 embeddings_metadata=None, \n",
    "                                 embeddings_data=None, update_freq='epoch')  \n",
    "history = model.fit(X_train, y_train, epochs=100, verbose=1, batch_size=1, callbacks = [tb])"
   ]
  },
  {
   "cell_type": "markdown",
   "metadata": {},
   "source": [
    "## 3 -  Evaluate \n",
    "\n",
    "Once we've trained our neural network, we need to evaluate our model on test data: accuracy, false positive, true positive"
   ]
  },
  {
   "cell_type": "code",
   "execution_count": 41,
   "metadata": {},
   "outputs": [
    {
     "name": "stdout",
     "output_type": "stream",
     "text": [
      "10/10 [==============================] - 0s 12ms/sample - loss: 0.2663 - acc: 0.6000\n",
      "Accuracy: 60.000%\n"
     ]
    }
   ],
   "source": [
    "accuracy = model.evaluate(X_test, y_test)[1]\n",
    "print(\"Accuracy: {:.3f}%\".format(accuracy * 100))"
   ]
  },
  {
   "cell_type": "code",
   "execution_count": 42,
   "metadata": {},
   "outputs": [
    {
     "data": {
      "image/png": "[encoded data removed]",
      "text/plain": [
       "<Figure size 432x288 with 1 Axes>"
      ]
     },
     "metadata": {
      "needs_background": "light"
     },
     "output_type": "display_data"
    }
   ],
   "source": [
    "plt.plot(history.history['loss'])\n",
    "plt.title('model loss')\n",
    "plt.ylabel('loss')\n",
    "plt.xlabel('epoch')\n",
    "plt.legend(['train'], loc='upper left')\n",
    "plt.show()"
   ]
  },
  {
   "cell_type": "markdown",
   "metadata": {},
   "source": [
    "### Tensorboard\n",
    "\n",
    "tensorboard --logdir ./logs/\n",
    "\n",
    "open http://localhost:6006"
   ]
  },
  {
   "cell_type": "code",
   "execution_count": 43,
   "metadata": {},
   "outputs": [],
   "source": [
    "def make_meshgrid(x, y, h=.02):\n",
    "    x_min, x_max = x.min() - 1, x.max() + 1\n",
    "    y_min, y_max = y.min() - 1, y.max() + 1\n",
    "    xx, yy = np.meshgrid(np.arange(x_min, x_max, h),\n",
    "                         np.arange(y_min, y_max, h))\n",
    "    return xx, yy\n",
    "\n",
    "def plot_descision_boundary(estimator, X, y):\n",
    "    X0, X1 = X[:, 0], X[:, 1]\n",
    "    xx, yy = make_meshgrid(X0, X1)\n",
    "    target = np.c_[xx.ravel(), yy.ravel()]\n",
    "    Z = (estimator.predict(target) > 0.5).astype(int)\n",
    "    Z = Z.reshape(xx.shape)\n",
    "    plt.contourf(xx, yy, Z, cmap=plt.cm.coolwarm, alpha=0.3)\n",
    "    sns.scatterplot(X0, X1, hue=y.flatten(), cmap=plt.cm.coolwarm, s=30, edgecolors='k')\n",
    "    plt.show()"
   ]
  },
  {
   "cell_type": "markdown",
   "metadata": {},
   "source": [
    "**Plot the descision boundary to get a visualization of what our neural networks have learned.**"
   ]
  },
  {
   "cell_type": "code",
   "execution_count": 44,
   "metadata": {},
   "outputs": [
    {
     "data": {
      "image/png": "[encoded data removed]",
      "text/plain": [
       "<Figure size 432x288 with 1 Axes>"
      ]
     },
     "metadata": {
      "needs_background": "light"
     },
     "output_type": "display_data"
    }
   ],
   "source": [
    "plot_descision_boundary(model, X_train, y_train)"
   ]
  },
  {
   "cell_type": "code",
   "execution_count": 45,
   "metadata": {},
   "outputs": [
    {
     "name": "stdout",
     "output_type": "stream",
     "text": [
      "confusion matrix [[2 4]\n",
      " [0 4]]\n",
      "tn,fp,fn,tp \n",
      " 2 4 0 4\n",
      "precision 0.5\n",
      "recall 1.0\n",
      "f1 score 0.6666666666666666\n"
     ]
    }
   ],
   "source": [
    "from sklearn.metrics import confusion_matrix, precision_score, recall_score, f1_score, cohen_kappa_score\n",
    "y_pred = (model.predict(X_test) > 0.5).astype(int)\n",
    "tn, fp, fn, tp = confusion_matrix(y_test, y_pred).ravel()\n",
    "print('confusion matrix', confusion_matrix(y_test, y_pred))\n",
    "print('tn,fp,fn,tp \\n', tn, fp, fn, tp)\n",
    "print('precision', precision_score(y_test, y_pred))\n",
    "print('recall', recall_score(y_test, y_pred))\n",
    "print('f1 score', f1_score(y_test,y_pred))"
   ]
  },
  {
   "cell_type": "markdown",
   "metadata": {},
   "source": [
    "## 4 -  Predict on new unseen data"
   ]
  },
  {
   "cell_type": "code",
   "execution_count": 46,
   "metadata": {},
   "outputs": [
    {
     "data": {
      "text/plain": [
       "1"
      ]
     },
     "execution_count": 46,
     "metadata": {},
     "output_type": "execute_result"
    }
   ],
   "source": [
    "(model.predict(np.array([[-2, -1]])) > 0.5).astype(int).flatten()[0]"
   ]
  },
  {
   "cell_type": "markdown",
   "metadata": {},
   "source": [
    "On constate qu'un réseau de neurones avec un seul neuronne ne peut apprendre qu'une fonction lineaire W * X +b\n",
    "Donc résoudre notre problème de classification il faut que notre reseau de neurones apprenne une fonction non lineaire et pour faire cela on va combiner le resultat de plusieurs neuronnes ensemble.\n",
    "\n",
    "\n",
    "<img src=\"\">"
   ]
  },
  {
   "cell_type": "code",
   "execution_count": 105,
   "metadata": {},
   "outputs": [],
   "source": [
    "# Create the Sequential model\n",
    "model =  tf.keras.Sequential()\n",
    "model.add(layers.Dense(2, input_dim=X_train.shape[1]))\n",
    "model.add(layers.Activation('relu')) # helps resolve Vanishing Gradient problem\n",
    "model.add(layers.Dense(1)) \n",
    "model.add(layers.Activation('sigmoid'))"
   ]
  },
  {
   "cell_type": "code",
   "execution_count": 106,
   "metadata": {},
   "outputs": [],
   "source": [
    "model.compile(loss='mean_squared_error', optimizer='sgd', metrics = [\"accuracy\"])"
   ]
  },
  {
   "cell_type": "code",
   "execution_count": 107,
   "metadata": {},
   "outputs": [
    {
     "name": "stdout",
     "output_type": "stream",
     "text": [
      "_________________________________________________________________\n",
      "Layer (type)                 Output Shape              Param #   \n",
      "=================================================================\n",
      "dense_22 (Dense)             (None, 2)                 6         \n",
      "_________________________________________________________________\n",
      "activation_22 (Activation)   (None, 2)                 0         \n",
      "_________________________________________________________________\n",
      "dense_23 (Dense)             (None, 1)                 3         \n",
      "_________________________________________________________________\n",
      "activation_23 (Activation)   (None, 1)                 0         \n",
      "=================================================================\n",
      "Total params: 9\n",
      "Trainable params: 9\n",
      "Non-trainable params: 0\n",
      "_________________________________________________________________\n"
     ]
    }
   ],
   "source": [
    "model.summary()"
   ]
  },
  {
   "cell_type": "code",
   "execution_count": 108,
   "metadata": {},
   "outputs": [
    {
     "name": "stdout",
     "output_type": "stream",
     "text": [
      "Epoch 1/100\n",
      "90/90 [==============================] - 0s 5ms/sample - loss: 0.2524 - acc: 0.4889\n",
      "Epoch 2/100\n",
      "90/90 [==============================] - 0s 2ms/sample - loss: 0.2498 - acc: 0.5222\n",
      "Epoch 3/100\n",
      "90/90 [==============================] - 0s 2ms/sample - loss: 0.2474 - acc: 0.6111\n",
      "Epoch 4/100\n",
      "90/90 [==============================] - 0s 2ms/sample - loss: 0.2450 - acc: 0.6222\n",
      "Epoch 5/100\n",
      "90/90 [==============================] - 0s 1ms/sample - loss: 0.2424 - acc: 0.6111\n",
      "Epoch 6/100\n",
      "90/90 [==============================] - 0s 1ms/sample - loss: 0.2396 - acc: 0.6222\n",
      "Epoch 7/100\n",
      "90/90 [==============================] - 0s 2ms/sample - loss: 0.2365 - acc: 0.6222\n",
      "Epoch 8/100\n",
      "90/90 [==============================] - 0s 2ms/sample - loss: 0.2324 - acc: 0.6667\n",
      "Epoch 9/100\n",
      "90/90 [==============================] - 0s 2ms/sample - loss: 0.2274 - acc: 0.6222\n",
      "Epoch 10/100\n",
      "90/90 [==============================] - 0s 1ms/sample - loss: 0.2250 - acc: 0.6556\n",
      "Epoch 11/100\n",
      "90/90 [==============================] - 0s 1ms/sample - loss: 0.2237 - acc: 0.6556\n",
      "Epoch 12/100\n",
      "90/90 [==============================] - 0s 2ms/sample - loss: 0.2227 - acc: 0.6333\n",
      "Epoch 13/100\n",
      "90/90 [==============================] - 0s 2ms/sample - loss: 0.2216 - acc: 0.6333\n",
      "Epoch 14/100\n",
      "90/90 [==============================] - 0s 2ms/sample - loss: 0.2207 - acc: 0.6444\n",
      "Epoch 15/100\n",
      "90/90 [==============================] - 0s 2ms/sample - loss: 0.2200 - acc: 0.6444\n",
      "Epoch 16/100\n",
      "90/90 [==============================] - 0s 1ms/sample - loss: 0.2190 - acc: 0.6222\n",
      "Epoch 17/100\n",
      "90/90 [==============================] - 0s 1ms/sample - loss: 0.2181 - acc: 0.6444\n",
      "Epoch 18/100\n",
      "90/90 [==============================] - 0s 1ms/sample - loss: 0.2172 - acc: 0.6556\n",
      "Epoch 19/100\n",
      "90/90 [==============================] - 0s 1ms/sample - loss: 0.2164 - acc: 0.6444\n",
      "Epoch 20/100\n",
      "90/90 [==============================] - 0s 1ms/sample - loss: 0.2152 - acc: 0.6222\n",
      "Epoch 21/100\n",
      "90/90 [==============================] - 0s 1ms/sample - loss: 0.2146 - acc: 0.6667\n",
      "Epoch 22/100\n",
      "90/90 [==============================] - 0s 1ms/sample - loss: 0.2136 - acc: 0.6556\n",
      "Epoch 23/100\n",
      "90/90 [==============================] - 0s 2ms/sample - loss: 0.2129 - acc: 0.7000\n",
      "Epoch 24/100\n",
      "90/90 [==============================] - 0s 2ms/sample - loss: 0.2119 - acc: 0.7222\n",
      "Epoch 25/100\n",
      "90/90 [==============================] - 0s 2ms/sample - loss: 0.2111 - acc: 0.7000\n",
      "Epoch 26/100\n",
      "90/90 [==============================] - 0s 1ms/sample - loss: 0.2101 - acc: 0.7222\n",
      "Epoch 27/100\n",
      "90/90 [==============================] - 0s 1ms/sample - loss: 0.2094 - acc: 0.7222\n",
      "Epoch 28/100\n",
      "90/90 [==============================] - 0s 2ms/sample - loss: 0.2086 - acc: 0.7222\n",
      "Epoch 29/100\n",
      "90/90 [==============================] - 0s 2ms/sample - loss: 0.2077 - acc: 0.7111\n",
      "Epoch 30/100\n",
      "90/90 [==============================] - 0s 2ms/sample - loss: 0.2069 - acc: 0.7222\n",
      "Epoch 31/100\n",
      "90/90 [==============================] - 0s 2ms/sample - loss: 0.2060 - acc: 0.7222\n",
      "Epoch 32/100\n",
      "90/90 [==============================] - 0s 2ms/sample - loss: 0.2051 - acc: 0.7222\n",
      "Epoch 33/100\n",
      "90/90 [==============================] - 0s 1ms/sample - loss: 0.2044 - acc: 0.7444\n",
      "Epoch 34/100\n",
      "90/90 [==============================] - 0s 2ms/sample - loss: 0.2035 - acc: 0.7444\n",
      "Epoch 35/100\n",
      "90/90 [==============================] - 0s 2ms/sample - loss: 0.2028 - acc: 0.7333\n",
      "Epoch 36/100\n",
      "90/90 [==============================] - 0s 2ms/sample - loss: 0.2018 - acc: 0.7222\n",
      "Epoch 37/100\n",
      "90/90 [==============================] - 0s 2ms/sample - loss: 0.2011 - acc: 0.7444\n",
      "Epoch 38/100\n",
      "90/90 [==============================] - 0s 2ms/sample - loss: 0.2003 - acc: 0.7333\n",
      "Epoch 39/100\n",
      "90/90 [==============================] - 0s 1ms/sample - loss: 0.1994 - acc: 0.7333\n",
      "Epoch 40/100\n",
      "90/90 [==============================] - 0s 1ms/sample - loss: 0.1987 - acc: 0.7222\n",
      "Epoch 41/100\n",
      "90/90 [==============================] - 0s 2ms/sample - loss: 0.1979 - acc: 0.7333\n",
      "Epoch 42/100\n",
      "90/90 [==============================] - 0s 2ms/sample - loss: 0.1971 - acc: 0.7444\n",
      "Epoch 43/100\n",
      "90/90 [==============================] - 0s 1ms/sample - loss: 0.1963 - acc: 0.7556\n",
      "Epoch 44/100\n",
      "90/90 [==============================] - 0s 1ms/sample - loss: 0.1954 - acc: 0.7333\n",
      "Epoch 45/100\n",
      "90/90 [==============================] - 0s 1ms/sample - loss: 0.1948 - acc: 0.7444\n",
      "Epoch 46/100\n",
      "90/90 [==============================] - 0s 1ms/sample - loss: 0.1939 - acc: 0.7333\n",
      "Epoch 47/100\n",
      "90/90 [==============================] - 0s 2ms/sample - loss: 0.1931 - acc: 0.7667\n",
      "Epoch 48/100\n",
      "90/90 [==============================] - 0s 2ms/sample - loss: 0.1922 - acc: 0.7000\n",
      "Epoch 49/100\n",
      "90/90 [==============================] - 0s 1ms/sample - loss: 0.1915 - acc: 0.7556\n",
      "Epoch 50/100\n",
      "90/90 [==============================] - 0s 1ms/sample - loss: 0.1909 - acc: 0.7556\n",
      "Epoch 51/100\n",
      "90/90 [==============================] - 0s 1ms/sample - loss: 0.1902 - acc: 0.7444\n",
      "Epoch 52/100\n",
      "90/90 [==============================] - 0s 2ms/sample - loss: 0.1893 - acc: 0.8000\n",
      "Epoch 53/100\n",
      "90/90 [==============================] - 0s 2ms/sample - loss: 0.1887 - acc: 0.7778\n",
      "Epoch 54/100\n",
      "90/90 [==============================] - 0s 2ms/sample - loss: 0.1879 - acc: 0.7444\n",
      "Epoch 55/100\n",
      "90/90 [==============================] - 0s 2ms/sample - loss: 0.1871 - acc: 0.8000\n",
      "Epoch 56/100\n",
      "90/90 [==============================] - 0s 2ms/sample - loss: 0.1864 - acc: 0.7889\n",
      "Epoch 57/100\n",
      "90/90 [==============================] - 0s 2ms/sample - loss: 0.1856 - acc: 0.7667\n",
      "Epoch 58/100\n",
      "90/90 [==============================] - 0s 2ms/sample - loss: 0.1850 - acc: 0.7889\n",
      "Epoch 59/100\n",
      "90/90 [==============================] - 0s 2ms/sample - loss: 0.1842 - acc: 0.8000\n",
      "Epoch 60/100\n",
      "90/90 [==============================] - 0s 2ms/sample - loss: 0.1835 - acc: 0.7778\n",
      "Epoch 61/100\n",
      "90/90 [==============================] - 0s 2ms/sample - loss: 0.1827 - acc: 0.8111\n",
      "Epoch 62/100\n",
      "90/90 [==============================] - 0s 2ms/sample - loss: 0.1821 - acc: 0.7889\n",
      "Epoch 63/100\n",
      "90/90 [==============================] - 0s 2ms/sample - loss: 0.1814 - acc: 0.7778\n",
      "Epoch 64/100\n",
      "90/90 [==============================] - 0s 2ms/sample - loss: 0.1808 - acc: 0.7667\n",
      "Epoch 65/100\n",
      "90/90 [==============================] - 0s 2ms/sample - loss: 0.1800 - acc: 0.7667\n",
      "Epoch 66/100\n",
      "90/90 [==============================] - 0s 2ms/sample - loss: 0.1794 - acc: 0.8000\n",
      "Epoch 67/100\n",
      "90/90 [==============================] - 0s 2ms/sample - loss: 0.1787 - acc: 0.7889\n",
      "Epoch 68/100\n",
      "90/90 [==============================] - 0s 1ms/sample - loss: 0.1782 - acc: 0.8000\n",
      "Epoch 69/100\n",
      "90/90 [==============================] - 0s 2ms/sample - loss: 0.1774 - acc: 0.7889\n",
      "Epoch 70/100\n",
      "90/90 [==============================] - 0s 2ms/sample - loss: 0.1768 - acc: 0.7778\n",
      "Epoch 71/100\n",
      "90/90 [==============================] - 0s 2ms/sample - loss: 0.1762 - acc: 0.8000\n",
      "Epoch 72/100\n",
      "90/90 [==============================] - 0s 2ms/sample - loss: 0.1755 - acc: 0.8111\n",
      "Epoch 73/100\n",
      "90/90 [==============================] - 0s 1ms/sample - loss: 0.1750 - acc: 0.8000\n",
      "Epoch 74/100\n",
      "90/90 [==============================] - 0s 2ms/sample - loss: 0.1744 - acc: 0.7778\n",
      "Epoch 75/100\n",
      "90/90 [==============================] - 0s 2ms/sample - loss: 0.1738 - acc: 0.7889\n",
      "Epoch 76/100\n",
      "90/90 [==============================] - 0s 2ms/sample - loss: 0.1732 - acc: 0.8111\n",
      "Epoch 77/100\n",
      "90/90 [==============================] - 0s 2ms/sample - loss: 0.1726 - acc: 0.8000\n",
      "Epoch 78/100\n",
      "90/90 [==============================] - 0s 2ms/sample - loss: 0.1720 - acc: 0.8111\n",
      "Epoch 79/100\n",
      "90/90 [==============================] - 0s 2ms/sample - loss: 0.1714 - acc: 0.7889\n",
      "Epoch 80/100\n",
      "90/90 [==============================] - 0s 2ms/sample - loss: 0.1708 - acc: 0.8111\n",
      "Epoch 81/100\n",
      "90/90 [==============================] - 0s 2ms/sample - loss: 0.1704 - acc: 0.8222\n",
      "Epoch 82/100\n",
      "90/90 [==============================] - 0s 2ms/sample - loss: 0.1697 - acc: 0.8000\n",
      "Epoch 83/100\n",
      "90/90 [==============================] - 0s 2ms/sample - loss: 0.1694 - acc: 0.8111\n",
      "Epoch 84/100\n",
      "90/90 [==============================] - 0s 2ms/sample - loss: 0.1688 - acc: 0.8111\n",
      "Epoch 85/100\n",
      "90/90 [==============================] - 0s 2ms/sample - loss: 0.1683 - acc: 0.8222\n",
      "Epoch 86/100\n",
      "90/90 [==============================] - 0s 2ms/sample - loss: 0.1678 - acc: 0.8222\n",
      "Epoch 87/100\n",
      "90/90 [==============================] - 0s 2ms/sample - loss: 0.1669 - acc: 0.8222\n",
      "Epoch 88/100\n",
      "90/90 [==============================] - 0s 2ms/sample - loss: 0.1669 - acc: 0.8222\n",
      "Epoch 89/100\n",
      "90/90 [==============================] - 0s 2ms/sample - loss: 0.1663 - acc: 0.8222\n",
      "Epoch 90/100\n",
      "90/90 [==============================] - 0s 2ms/sample - loss: 0.1659 - acc: 0.8222\n",
      "Epoch 91/100\n",
      "90/90 [==============================] - 0s 2ms/sample - loss: 0.1654 - acc: 0.8111\n",
      "Epoch 92/100\n",
      "90/90 [==============================] - 0s 1ms/sample - loss: 0.1648 - acc: 0.8222\n",
      "Epoch 93/100\n",
      "90/90 [==============================] - 0s 1ms/sample - loss: 0.1644 - acc: 0.8333\n",
      "Epoch 94/100\n",
      "90/90 [==============================] - 0s 1ms/sample - loss: 0.1641 - acc: 0.8333\n",
      "Epoch 95/100\n",
      "90/90 [==============================] - 0s 1ms/sample - loss: 0.1633 - acc: 0.8444\n",
      "Epoch 96/100\n",
      "90/90 [==============================] - 0s 1ms/sample - loss: 0.1631 - acc: 0.8000\n",
      "Epoch 97/100\n",
      "90/90 [==============================] - 0s 1ms/sample - loss: 0.1627 - acc: 0.8111\n",
      "Epoch 98/100\n",
      "90/90 [==============================] - 0s 1ms/sample - loss: 0.1624 - acc: 0.8111\n",
      "Epoch 99/100\n",
      "90/90 [==============================] - 0s 1ms/sample - loss: 0.1616 - acc: 0.8222\n",
      "Epoch 100/100\n",
      "90/90 [==============================] - 0s 1ms/sample - loss: 0.1614 - acc: 0.8111\n"
     ]
    }
   ],
   "source": [
    "history = model.fit(X_train, y_train, epochs=100, verbose=1, batch_size=1, callbacks = [tb])"
   ]
  },
  {
   "cell_type": "code",
   "execution_count": 109,
   "metadata": {},
   "outputs": [
    {
     "name": "stdout",
     "output_type": "stream",
     "text": [
      "\r",
      "10/10 [==============================] - 0s 18ms/sample - loss: 0.2227 - acc: 0.7000\n"
     ]
    },
    {
     "data": {
      "text/plain": [
       "[0.2226545810699463, 0.7]"
      ]
     },
     "execution_count": 109,
     "metadata": {},
     "output_type": "execute_result"
    }
   ],
   "source": [
    "model.evaluate(X_test, y_test)"
   ]
  },
  {
   "cell_type": "code",
   "execution_count": 110,
   "metadata": {},
   "outputs": [
    {
     "data": {
      "image/png": "[encoded data removed]",
      "text/plain": [
       "<Figure size 432x288 with 1 Axes>"
      ]
     },
     "metadata": {
      "needs_background": "light"
     },
     "output_type": "display_data"
    }
   ],
   "source": [
    "plt.plot(history.history['loss'])\n",
    "plt.title('model loss')\n",
    "plt.ylabel('loss')\n",
    "plt.xlabel('epoch')\n",
    "plt.legend(['train'], loc='upper left')\n",
    "plt.show()"
   ]
  },
  {
   "cell_type": "code",
   "execution_count": 111,
   "metadata": {},
   "outputs": [
    {
     "data": {
      "image/png": "[encoded data removed]",
      "text/plain": [
       "<Figure size 432x288 with 1 Axes>"
      ]
     },
     "metadata": {
      "needs_background": "light"
     },
     "output_type": "display_data"
    }
   ],
   "source": [
    "plot_descision_boundary(model, X_train, y_train)"
   ]
  },
  {
   "cell_type": "markdown",
   "metadata": {},
   "source": [
    "**On commence à apprendre des fonctions non linéaire mais on est encore loin du résultat attendu. On a joute donc encore plus de neurones.**"
   ]
  },
  {
   "cell_type": "code",
   "execution_count": 151,
   "metadata": {},
   "outputs": [],
   "source": [
    "# Create the Sequential model\n",
    "model =  tf.keras.Sequential()\n",
    "model.add(layers.Dense(4, input_dim=X_train.shape[1]))\n",
    "model.add(layers.Activation('relu'))\n",
    "model.add(layers.Dense(4)) \n",
    "model.add(layers.Activation('relu'))\n",
    "model.add(layers.Dense(1)) \n",
    "model.add(layers.Activation('sigmoid'))"
   ]
  },
  {
   "cell_type": "code",
   "execution_count": 152,
   "metadata": {},
   "outputs": [],
   "source": [
    "sgd = tf.keras.optimizers.SGD(lr=0.01)\n",
    "model.compile(loss='mean_squared_error', optimizer=sgd, metrics = [\"accuracy\"])"
   ]
  },
  {
   "cell_type": "code",
   "execution_count": 153,
   "metadata": {},
   "outputs": [
    {
     "name": "stdout",
     "output_type": "stream",
     "text": [
      "_________________________________________________________________\n",
      "Layer (type)                 Output Shape              Param #   \n",
      "=================================================================\n",
      "dense_42 (Dense)             (None, 4)                 12        \n",
      "_________________________________________________________________\n",
      "activation_42 (Activation)   (None, 4)                 0         \n",
      "_________________________________________________________________\n",
      "dense_43 (Dense)             (None, 4)                 20        \n",
      "_________________________________________________________________\n",
      "activation_43 (Activation)   (None, 4)                 0         \n",
      "_________________________________________________________________\n",
      "dense_44 (Dense)             (None, 1)                 5         \n",
      "_________________________________________________________________\n",
      "activation_44 (Activation)   (None, 1)                 0         \n",
      "=================================================================\n",
      "Total params: 37\n",
      "Trainable params: 37\n",
      "Non-trainable params: 0\n",
      "_________________________________________________________________\n"
     ]
    }
   ],
   "source": [
    "model.summary()"
   ]
  },
  {
   "cell_type": "code",
   "execution_count": 154,
   "metadata": {},
   "outputs": [
    {
     "name": "stdout",
     "output_type": "stream",
     "text": [
      "Epoch 1/100\n",
      "90/90 [==============================] - 1s 7ms/sample - loss: 0.2653 - acc: 0.4222\n",
      "Epoch 2/100\n",
      "90/90 [==============================] - 0s 2ms/sample - loss: 0.2530 - acc: 0.5000\n",
      "Epoch 3/100\n",
      "90/90 [==============================] - 0s 2ms/sample - loss: 0.2430 - acc: 0.5444\n",
      "Epoch 4/100\n",
      "90/90 [==============================] - 0s 2ms/sample - loss: 0.2342 - acc: 0.6889\n",
      "Epoch 5/100\n",
      "90/90 [==============================] - 0s 2ms/sample - loss: 0.2266 - acc: 0.6556\n",
      "Epoch 6/100\n",
      "90/90 [==============================] - 0s 2ms/sample - loss: 0.2194 - acc: 0.7444\n",
      "Epoch 7/100\n",
      "90/90 [==============================] - 0s 2ms/sample - loss: 0.2129 - acc: 0.7444\n",
      "Epoch 8/100\n",
      "90/90 [==============================] - 0s 2ms/sample - loss: 0.2067 - acc: 0.7889\n",
      "Epoch 9/100\n",
      "90/90 [==============================] - 0s 2ms/sample - loss: 0.2006 - acc: 0.7889\n",
      "Epoch 10/100\n",
      "90/90 [==============================] - 0s 2ms/sample - loss: 0.1948 - acc: 0.8333\n",
      "Epoch 11/100\n",
      "90/90 [==============================] - 0s 2ms/sample - loss: 0.1893 - acc: 0.8444\n",
      "Epoch 12/100\n",
      "90/90 [==============================] - 0s 2ms/sample - loss: 0.1839 - acc: 0.8667\n",
      "Epoch 13/100\n",
      "90/90 [==============================] - 0s 2ms/sample - loss: 0.1789 - acc: 0.8667\n",
      "Epoch 14/100\n",
      "90/90 [==============================] - 0s 2ms/sample - loss: 0.1740 - acc: 0.8667\n",
      "Epoch 15/100\n",
      "90/90 [==============================] - 0s 2ms/sample - loss: 0.1693 - acc: 0.8556\n",
      "Epoch 16/100\n",
      "90/90 [==============================] - 0s 2ms/sample - loss: 0.1647 - acc: 0.8667\n",
      "Epoch 17/100\n",
      "90/90 [==============================] - 0s 2ms/sample - loss: 0.1603 - acc: 0.8556\n",
      "Epoch 18/100\n",
      "90/90 [==============================] - 0s 2ms/sample - loss: 0.1558 - acc: 0.8556\n",
      "Epoch 19/100\n",
      "90/90 [==============================] - 0s 2ms/sample - loss: 0.1515 - acc: 0.8556\n",
      "Epoch 20/100\n",
      "90/90 [==============================] - 0s 2ms/sample - loss: 0.1473 - acc: 0.8667\n",
      "Epoch 21/100\n",
      "90/90 [==============================] - 0s 2ms/sample - loss: 0.1431 - acc: 0.8556\n",
      "Epoch 22/100\n",
      "90/90 [==============================] - 0s 2ms/sample - loss: 0.1391 - acc: 0.8778\n",
      "Epoch 23/100\n",
      "90/90 [==============================] - 0s 2ms/sample - loss: 0.1351 - acc: 0.8889\n",
      "Epoch 24/100\n",
      "90/90 [==============================] - 0s 2ms/sample - loss: 0.1313 - acc: 0.9000\n",
      "Epoch 25/100\n",
      "90/90 [==============================] - 0s 2ms/sample - loss: 0.1273 - acc: 0.9222\n",
      "Epoch 26/100\n",
      "90/90 [==============================] - 0s 2ms/sample - loss: 0.1236 - acc: 0.9111\n",
      "Epoch 27/100\n",
      "90/90 [==============================] - 0s 2ms/sample - loss: 0.1199 - acc: 0.9111\n",
      "Epoch 28/100\n",
      "90/90 [==============================] - 0s 2ms/sample - loss: 0.1158 - acc: 0.9111\n",
      "Epoch 29/100\n",
      "90/90 [==============================] - 0s 2ms/sample - loss: 0.1129 - acc: 0.9333\n",
      "Epoch 30/100\n",
      "90/90 [==============================] - 0s 2ms/sample - loss: 0.1094 - acc: 0.9333\n",
      "Epoch 31/100\n",
      "90/90 [==============================] - 0s 2ms/sample - loss: 0.1059 - acc: 0.9222\n",
      "Epoch 32/100\n",
      "90/90 [==============================] - 0s 2ms/sample - loss: 0.1028 - acc: 0.9333\n",
      "Epoch 33/100\n",
      "90/90 [==============================] - 0s 2ms/sample - loss: 0.0996 - acc: 0.9556\n",
      "Epoch 34/100\n",
      "90/90 [==============================] - 0s 2ms/sample - loss: 0.0965 - acc: 0.9556\n",
      "Epoch 35/100\n",
      "90/90 [==============================] - 0s 2ms/sample - loss: 0.0935 - acc: 0.9444\n",
      "Epoch 36/100\n",
      "90/90 [==============================] - 0s 2ms/sample - loss: 0.0904 - acc: 0.9556\n",
      "Epoch 37/100\n",
      "90/90 [==============================] - 0s 2ms/sample - loss: 0.0877 - acc: 0.9556\n",
      "Epoch 38/100\n",
      "90/90 [==============================] - 0s 2ms/sample - loss: 0.0850 - acc: 0.9667\n",
      "Epoch 39/100\n",
      "90/90 [==============================] - 0s 2ms/sample - loss: 0.0824 - acc: 0.9667\n",
      "Epoch 40/100\n",
      "90/90 [==============================] - 0s 2ms/sample - loss: 0.0799 - acc: 0.9778\n",
      "Epoch 41/100\n",
      "90/90 [==============================] - 0s 2ms/sample - loss: 0.0776 - acc: 0.9667\n",
      "Epoch 42/100\n",
      "90/90 [==============================] - 0s 2ms/sample - loss: 0.0754 - acc: 0.9667\n",
      "Epoch 43/100\n",
      "90/90 [==============================] - 0s 2ms/sample - loss: 0.0734 - acc: 0.9667\n",
      "Epoch 44/100\n",
      "90/90 [==============================] - 0s 2ms/sample - loss: 0.0715 - acc: 0.9667\n",
      "Epoch 45/100\n",
      "90/90 [==============================] - 0s 2ms/sample - loss: 0.0695 - acc: 0.9778\n",
      "Epoch 46/100\n",
      "90/90 [==============================] - 0s 2ms/sample - loss: 0.0675 - acc: 0.9889\n",
      "Epoch 47/100\n",
      "90/90 [==============================] - 0s 2ms/sample - loss: 0.0659 - acc: 0.9778\n",
      "Epoch 48/100\n",
      "90/90 [==============================] - 0s 2ms/sample - loss: 0.0641 - acc: 0.9778\n",
      "Epoch 49/100\n",
      "90/90 [==============================] - 0s 2ms/sample - loss: 0.0625 - acc: 0.9778\n",
      "Epoch 50/100\n",
      "90/90 [==============================] - 0s 2ms/sample - loss: 0.0612 - acc: 0.9778\n",
      "Epoch 51/100\n",
      "90/90 [==============================] - 0s 2ms/sample - loss: 0.0596 - acc: 0.9778\n",
      "Epoch 52/100\n",
      "90/90 [==============================] - 0s 2ms/sample - loss: 0.0581 - acc: 0.9889\n",
      "Epoch 53/100\n",
      "90/90 [==============================] - 0s 2ms/sample - loss: 0.0568 - acc: 0.9889\n",
      "Epoch 54/100\n",
      "90/90 [==============================] - 0s 2ms/sample - loss: 0.0554 - acc: 0.9889\n",
      "Epoch 55/100\n",
      "90/90 [==============================] - 0s 2ms/sample - loss: 0.0542 - acc: 0.9889\n",
      "Epoch 56/100\n",
      "90/90 [==============================] - 0s 2ms/sample - loss: 0.0528 - acc: 0.9778\n",
      "Epoch 57/100\n",
      "90/90 [==============================] - 0s 2ms/sample - loss: 0.0520 - acc: 0.9889\n",
      "Epoch 58/100\n",
      "90/90 [==============================] - 0s 2ms/sample - loss: 0.0509 - acc: 0.9889\n",
      "Epoch 59/100\n",
      "90/90 [==============================] - 0s 2ms/sample - loss: 0.0499 - acc: 0.9889\n",
      "Epoch 60/100\n",
      "90/90 [==============================] - 0s 2ms/sample - loss: 0.0489 - acc: 0.9889\n",
      "Epoch 61/100\n",
      "90/90 [==============================] - 0s 2ms/sample - loss: 0.0479 - acc: 0.9889\n",
      "Epoch 62/100\n",
      "90/90 [==============================] - 0s 2ms/sample - loss: 0.0465 - acc: 1.0000\n",
      "Epoch 63/100\n",
      "90/90 [==============================] - 0s 2ms/sample - loss: 0.0461 - acc: 0.9889\n",
      "Epoch 64/100\n",
      "90/90 [==============================] - 0s 2ms/sample - loss: 0.0451 - acc: 1.0000\n",
      "Epoch 65/100\n",
      "90/90 [==============================] - 0s 2ms/sample - loss: 0.0440 - acc: 0.9778\n",
      "Epoch 66/100\n",
      "90/90 [==============================] - 0s 2ms/sample - loss: 0.0434 - acc: 0.9889\n",
      "Epoch 67/100\n",
      "90/90 [==============================] - 0s 2ms/sample - loss: 0.0429 - acc: 0.9889\n",
      "Epoch 68/100\n",
      "90/90 [==============================] - 0s 2ms/sample - loss: 0.0420 - acc: 0.9889\n",
      "Epoch 69/100\n",
      "90/90 [==============================] - 0s 2ms/sample - loss: 0.0413 - acc: 0.9889\n",
      "Epoch 70/100\n",
      "90/90 [==============================] - 0s 2ms/sample - loss: 0.0406 - acc: 0.9889\n",
      "Epoch 71/100\n",
      "90/90 [==============================] - 0s 2ms/sample - loss: 0.0401 - acc: 1.0000\n",
      "Epoch 72/100\n",
      "90/90 [==============================] - 0s 2ms/sample - loss: 0.0395 - acc: 0.9889\n",
      "Epoch 73/100\n",
      "90/90 [==============================] - 0s 2ms/sample - loss: 0.0387 - acc: 1.0000\n",
      "Epoch 74/100\n",
      "90/90 [==============================] - 0s 2ms/sample - loss: 0.0382 - acc: 1.0000\n",
      "Epoch 75/100\n",
      "90/90 [==============================] - 0s 2ms/sample - loss: 0.0377 - acc: 0.9889\n",
      "Epoch 76/100\n",
      "90/90 [==============================] - 0s 2ms/sample - loss: 0.0370 - acc: 1.0000\n",
      "Epoch 77/100\n",
      "90/90 [==============================] - 0s 2ms/sample - loss: 0.0364 - acc: 0.9889\n",
      "Epoch 78/100\n",
      "90/90 [==============================] - 0s 2ms/sample - loss: 0.0360 - acc: 0.9778\n",
      "Epoch 79/100\n",
      "90/90 [==============================] - 0s 2ms/sample - loss: 0.0352 - acc: 0.9889\n",
      "Epoch 80/100\n",
      "90/90 [==============================] - 0s 2ms/sample - loss: 0.0349 - acc: 0.9778\n",
      "Epoch 81/100\n",
      "90/90 [==============================] - 0s 2ms/sample - loss: 0.0343 - acc: 0.9889\n",
      "Epoch 82/100\n",
      "90/90 [==============================] - 0s 2ms/sample - loss: 0.0340 - acc: 0.9889\n",
      "Epoch 83/100\n",
      "90/90 [==============================] - 0s 2ms/sample - loss: 0.0334 - acc: 0.9889\n",
      "Epoch 84/100\n",
      "90/90 [==============================] - 0s 2ms/sample - loss: 0.0330 - acc: 0.9889\n",
      "Epoch 85/100\n",
      "90/90 [==============================] - 0s 2ms/sample - loss: 0.0327 - acc: 0.9889\n",
      "Epoch 86/100\n",
      "90/90 [==============================] - 0s 2ms/sample - loss: 0.0322 - acc: 0.9889\n",
      "Epoch 87/100\n",
      "90/90 [==============================] - 0s 2ms/sample - loss: 0.0319 - acc: 0.9889\n",
      "Epoch 88/100\n",
      "90/90 [==============================] - 0s 2ms/sample - loss: 0.0314 - acc: 0.9889\n",
      "Epoch 89/100\n",
      "90/90 [==============================] - 0s 2ms/sample - loss: 0.0310 - acc: 0.9889\n",
      "Epoch 90/100\n",
      "90/90 [==============================] - 0s 2ms/sample - loss: 0.0307 - acc: 0.9778\n",
      "Epoch 91/100\n",
      "90/90 [==============================] - 0s 2ms/sample - loss: 0.0303 - acc: 0.9889\n",
      "Epoch 92/100\n",
      "90/90 [==============================] - 0s 2ms/sample - loss: 0.0298 - acc: 1.0000\n",
      "Epoch 93/100\n",
      "90/90 [==============================] - 0s 2ms/sample - loss: 0.0297 - acc: 1.0000\n",
      "Epoch 94/100\n",
      "90/90 [==============================] - 0s 2ms/sample - loss: 0.0292 - acc: 0.9889\n",
      "Epoch 95/100\n",
      "90/90 [==============================] - 0s 2ms/sample - loss: 0.0290 - acc: 0.9889\n",
      "Epoch 96/100\n",
      "90/90 [==============================] - 0s 2ms/sample - loss: 0.0285 - acc: 0.9889\n",
      "Epoch 97/100\n",
      "90/90 [==============================] - 0s 2ms/sample - loss: 0.0283 - acc: 0.9889\n",
      "Epoch 98/100\n",
      "90/90 [==============================] - 0s 2ms/sample - loss: 0.0281 - acc: 0.9889\n",
      "Epoch 99/100\n",
      "90/90 [==============================] - 0s 2ms/sample - loss: 0.0278 - acc: 1.0000\n",
      "Epoch 100/100\n",
      "90/90 [==============================] - 0s 2ms/sample - loss: 0.0274 - acc: 0.9889\n"
     ]
    }
   ],
   "source": [
    "history = model.fit(X_train, y_train, epochs=100, verbose=1, batch_size=1, callbacks = [tb])"
   ]
  },
  {
   "cell_type": "code",
   "execution_count": 155,
   "metadata": {},
   "outputs": [
    {
     "name": "stdout",
     "output_type": "stream",
     "text": [
      "\r",
      "10/10 [==============================] - 0s 24ms/sample - loss: 0.0070 - acc: 1.0000\n"
     ]
    },
    {
     "data": {
      "text/plain": [
       "[0.006960486061871052, 1.0]"
      ]
     },
     "execution_count": 155,
     "metadata": {},
     "output_type": "execute_result"
    }
   ],
   "source": [
    "model.evaluate(X_test, y_test)"
   ]
  },
  {
   "cell_type": "code",
   "execution_count": 156,
   "metadata": {},
   "outputs": [
    {
     "data": {
      "image/png": "[encoded data removed]",
      "text/plain": [
       "<Figure size 432x288 with 1 Axes>"
      ]
     },
     "metadata": {
      "needs_background": "light"
     },
     "output_type": "display_data"
    }
   ],
   "source": [
    "plt.plot(history.history['loss'])\n",
    "plt.title('model loss')\n",
    "plt.ylabel('loss')\n",
    "plt.xlabel('epoch')\n",
    "plt.legend(['train'], loc='upper left')\n",
    "plt.show()"
   ]
  },
  {
   "cell_type": "code",
   "execution_count": 149,
   "metadata": {},
   "outputs": [
    {
     "name": "stdout",
     "output_type": "stream",
     "text": [
      "confusion matrix [[5 1]\n",
      " [0 4]]\n",
      "tn,fp,fn,tp \n",
      " 5 1 0 4\n",
      "precision 0.8\n",
      "recall 1.0\n",
      "f1 score 0.888888888888889\n"
     ]
    }
   ],
   "source": [
    "from sklearn.metrics import confusion_matrix, precision_score, recall_score, f1_score, cohen_kappa_score\n",
    "y_pred = (model.predict(X_test) > 0.5).astype(int)\n",
    "tn, fp, fn, tp = confusion_matrix(y_test, y_pred).ravel()\n",
    "print('confusion matrix', confusion_matrix(y_test, y_pred))\n",
    "print('tn,fp,fn,tp \\n', tn, fp, fn, tp)\n",
    "print('precision', precision_score(y_test, y_pred))\n",
    "print('recall', recall_score(y_test, y_pred))\n",
    "print('f1 score', f1_score(y_test,y_pred))"
   ]
  },
  {
   "cell_type": "code",
   "execution_count": 157,
   "metadata": {},
   "outputs": [
    {
     "data": {
      "image/png": "[encoded data removed]",
      "text/plain": [
       "<Figure size 432x288 with 1 Axes>"
      ]
     },
     "metadata": {
      "needs_background": "light"
     },
     "output_type": "display_data"
    }
   ],
   "source": [
    "plot_descision_boundary(model, X_train, y_train)"
   ]
  },
  {
   "cell_type": "markdown",
   "metadata": {},
   "source": [
    "# Bravo !  End of deep learning with tensorflow keras lab "
   ]
  }
 ],
 "metadata": {
  "kernelspec": {
   "display_name": "Python 3",
   "language": "python",
   "name": "python3"
  },
  "language_info": {
   "codemirror_mode": {
    "name": "ipython",
    "version": 3
   },
   "file_extension": ".py",
   "mimetype": "text/x-python",
   "name": "python",
   "nbconvert_exporter": "python",
   "pygments_lexer": "ipython3",
   "version": "3.7.2"
  }
 },
 "nbformat": 4,
 "nbformat_minor": 2
}
