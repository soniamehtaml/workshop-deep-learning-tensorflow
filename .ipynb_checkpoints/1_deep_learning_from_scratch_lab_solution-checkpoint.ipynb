{
 "cells": [
  {
   "cell_type": "markdown",
   "metadata": {},
   "source": [
    "# Building a deep learning model from scractch for non linear classification problem\n",
    " \n",
    "There are four steps to build and use a machine learning model.\n",
    "\n",
    "- Preprocessing ramdomize, normalize, shuffle, clean EDA, split train test\n",
    "- Learning implementing the model\n",
    "- Evaluation metrics, tests, over undert, hyper tunning, true positive, false positive\n",
    "- Prediction on new unseen data"
   ]
  },
  {
   "cell_type": "markdown",
   "metadata": {},
   "source": [
    "## Problem context\n",
    "\n",
    "You will implement a deep learning model to predict whether microchips from a fabrication plant passes quality assurance (QA). During QA, each microchip goes through various tests to ensure it is functioning correctly.\n",
    "Suppose you are the product manager of the factory and you have the test results for some microchips on two different tests. From these two tests, you would like to determine whether the microchips should be accepted or rejected. To help you make the decision, you have a dataset of test results on past microchips, from which you can build a logistic regression model."
   ]
  },
  {
   "cell_type": "markdown",
   "metadata": {},
   "source": [
    "## 1 -  Preprocessing et EDA\n",
    "\n",
    "La première étape consiste à charger puis visualizer puis analyser les données"
   ]
  },
  {
   "cell_type": "code",
   "execution_count": 2,
   "metadata": {},
   "outputs": [],
   "source": [
    "%matplotlib inline\n",
    "\n",
    "import matplotlib.pyplot as plt\n",
    "import numpy as np\n",
    "import pandas as pd\n",
    "import seaborn as sns\n",
    "\n",
    "#fonction utilitaire pour afficher les points\n",
    "\n",
    "def plot_points(X, y):\n",
    "    sns.scatterplot(X[:, 0], X[:, 1], hue=y.flatten(), cmap=plt.cm.coolwarm, s=30, edgecolors='k')\n",
    "    plt.show()\n",
    "    \n",
    "# fonction utilitaire pour randomiser les données (shuffle)\n",
    "def randomize(X, Y):\n",
    "    permutation = np.random.permutation(Y.shape[0])\n",
    "    X2 = X[permutation,:]\n",
    "    Y2 = Y[permutation]\n",
    "    Y2[Y2 == -1] = 0 \n",
    "    return X2, Y2  \n",
    "\n",
    "# fonction utilitaire pour split les données en test et train sets\n",
    "def split_train_test(data, test_size):\n",
    "    sample = np.random.choice(data.index, size=int(len(data)*(1 - test_size)), replace=False)\n",
    "    train_data, test_data = data.iloc[sample], data.drop(sample)\n",
    "    return train_data, test_data "
   ]
  },
  {
   "cell_type": "markdown",
   "metadata": {},
   "source": [
    "### Load data"
   ]
  },
  {
   "cell_type": "code",
   "execution_count": 6,
   "metadata": {},
   "outputs": [
    {
     "data": {
      "text/html": [
       "<div>\n",
       "<style scoped>\n",
       "    .dataframe tbody tr th:only-of-type {\n",
       "        vertical-align: middle;\n",
       "    }\n",
       "\n",
       "    .dataframe tbody tr th {\n",
       "        vertical-align: top;\n",
       "    }\n",
       "\n",
       "    .dataframe thead th {\n",
       "        text-align: right;\n",
       "    }\n",
       "</style>\n",
       "<table border=\"1\" class=\"dataframe\">\n",
       "  <thead>\n",
       "    <tr style=\"text-align: right;\">\n",
       "      <th></th>\n",
       "      <th>test1</th>\n",
       "      <th>test2</th>\n",
       "      <th>result</th>\n",
       "    </tr>\n",
       "  </thead>\n",
       "  <tbody>\n",
       "    <tr>\n",
       "      <th>0</th>\n",
       "      <td>0.336494</td>\n",
       "      <td>-0.985951</td>\n",
       "      <td>-1.0</td>\n",
       "    </tr>\n",
       "    <tr>\n",
       "      <th>1</th>\n",
       "      <td>-0.011043</td>\n",
       "      <td>-0.105529</td>\n",
       "      <td>1.0</td>\n",
       "    </tr>\n",
       "    <tr>\n",
       "      <th>2</th>\n",
       "      <td>0.238160</td>\n",
       "      <td>-0.617417</td>\n",
       "      <td>1.0</td>\n",
       "    </tr>\n",
       "    <tr>\n",
       "      <th>3</th>\n",
       "      <td>-0.366783</td>\n",
       "      <td>-0.713819</td>\n",
       "      <td>1.0</td>\n",
       "    </tr>\n",
       "    <tr>\n",
       "      <th>4</th>\n",
       "      <td>1.221923</td>\n",
       "      <td>-1.039399</td>\n",
       "      <td>-1.0</td>\n",
       "    </tr>\n",
       "  </tbody>\n",
       "</table>\n",
       "</div>"
      ],
      "text/plain": [
       "      test1     test2  result\n",
       "0  0.336494 -0.985951    -1.0\n",
       "1 -0.011043 -0.105529     1.0\n",
       "2  0.238160 -0.617417     1.0\n",
       "3 -0.366783 -0.713819     1.0\n",
       "4  1.221923 -1.039399    -1.0"
      ]
     },
     "execution_count": 6,
     "metadata": {},
     "output_type": "execute_result"
    }
   ],
   "source": [
    "data = pd.read_csv('microships_QA.csv');\n",
    "data.head()"
   ]
  },
  {
   "cell_type": "markdown",
   "metadata": {},
   "source": [
    "### Split data into train and test sets\n",
    "\n",
    "In order to test our algorithm, we'll split the data into a Training and a Testing set."
   ]
  },
  {
   "cell_type": "code",
   "execution_count": 7,
   "metadata": {},
   "outputs": [],
   "source": [
    "train_data, test_data = split_train_test(data, test_size=0.1)"
   ]
  },
  {
   "cell_type": "markdown",
   "metadata": {},
   "source": [
    "### Extract features and target columns"
   ]
  },
  {
   "cell_type": "code",
   "execution_count": 12,
   "metadata": {},
   "outputs": [
    {
     "name": "stdout",
     "output_type": "stream",
     "text": [
      "Shape of X_train =  (90, 2) Shape of y_train= (90, 1) \n",
      "\n",
      "Shape of X_test =  (10, 2) Shape of y_test = (10, 1) \n",
      "\n"
     ]
    }
   ],
   "source": [
    "X_train = np.array(train_data.drop('result', axis=1))\n",
    "y_train = np.array(train_data['result']).reshape(-1, 1)\n",
    "X_test = np.array(test_data.drop('result', axis=1))\n",
    "y_test = np.array(test_data['result']).reshape(-1, 1)\n",
    "\n",
    "print(\"Shape of X_train = \", X_train.shape, \"Shape of y_train=\", y_train.shape, \"\\n\")\n",
    "print(\"Shape of X_test = \",  X_test.shape, \"Shape of y_test =\",  y_test.shape, \"\\n\")"
   ]
  },
  {
   "cell_type": "markdown",
   "metadata": {},
   "source": [
    "### Randomize features and target columns"
   ]
  },
  {
   "cell_type": "code",
   "execution_count": 13,
   "metadata": {},
   "outputs": [],
   "source": [
    "X_train, y_train = randomize(X_train, y_train)\n",
    "X_test, y_test = randomize(X_test, y_test)"
   ]
  },
  {
   "cell_type": "markdown",
   "metadata": {},
   "source": [
    "### Visualize dataset"
   ]
  },
  {
   "cell_type": "code",
   "execution_count": 14,
   "metadata": {},
   "outputs": [
    {
     "data": {
      "image/png": "[encoded data removed]",
      "text/plain": [
       "<Figure size 432x288 with 1 Axes>"
      ]
     },
     "metadata": {
      "needs_background": "light"
     },
     "output_type": "display_data"
    }
   ],
   "source": [
    "plot_points(X_train, y_train)"
   ]
  },
  {
   "cell_type": "markdown",
   "metadata": {},
   "source": [
    "## 2 -  Implementing the deep learning model "
   ]
  },
  {
   "cell_type": "markdown",
   "metadata": {},
   "source": [
    "###  Sigmoid\n",
    "**In order to learn using gradient descent** error function has to be continuous and differentiable.\n",
    "- Sigmoid function gives not discrete value but probability of being a value (probabilty space). Sigmoid activation function is used when we have 2 labels. \n",
    "\n",
    "$$sigmoid(x) = \\frac{1}{1+e^{-x}}$$"
   ]
  },
  {
   "cell_type": "code",
   "execution_count": 15,
   "metadata": {},
   "outputs": [],
   "source": [
    "def sigmoid(X):\n",
    "    return 1 / (1 + np.exp(-X))\n",
    "\n",
    "def sigmoid_prime(X):\n",
    "    return sigmoid(X) * (1 - sigmoid(X))"
   ]
  },
  {
   "cell_type": "markdown",
   "metadata": {},
   "source": [
    "### Loss Function\n",
    "\n",
    "We will use MSA = MEAN SQUARED ERROR\n",
    "\n",
    "It is easier to actually optimize on MSE, as the a quadratic term is differentiable. This factor makes this metric better for gradient based optimization algorithms.\n",
    "\n",
    "$$E = \\frac{1}{2 N} \\sum (y_p -y_t)^2 $$\n",
    "\n",
    "Derivative of Mean Squared Error \n",
    "\n",
    "$$\n",
    "\\frac{\\partial E}{\\partial w_j} = -\\frac{1}{N}\\sum_{n=1}^N x_{nj}(y_n - (Xw)_n) = -\\frac{1}{N}x_j^T (y - Xw),\n",
    "$$\n",
    "\n",
    "Weight error \n",
    "\n",
    "$$\n",
    "\\nabla E(w) = -\\frac{1}{N}X^T (y - Xw)\n",
    "$$"
   ]
  },
  {
   "cell_type": "code",
   "execution_count": 17,
   "metadata": {},
   "outputs": [],
   "source": [
    "def mse(y_true, y_pred):\n",
    "    return np.mean(np.power(y_true-y_pred, 2));\n",
    "\n",
    "def mse_prime(y_true, y_pred):\n",
    "    return 2*(y_pred-y_true)/y_true.size;"
   ]
  },
  {
   "cell_type": "markdown",
   "metadata": {},
   "source": [
    "### Layer\n",
    "A layer in neural networks contains a set neurons and has two methods: forward_prog and backward_prog"
   ]
  },
  {
   "cell_type": "code",
   "execution_count": 16,
   "metadata": {},
   "outputs": [],
   "source": [
    "class Layer:\n",
    "    def __init__(self):\n",
    "        self.input = None\n",
    "        self.output = None\n",
    "\n",
    "    # computes the output Y of a layer for a given input X\n",
    "    def forward_propagation(self, input):\n",
    "        raise NotImplementedError\n",
    "\n",
    "    # computes dE/dX for a given dE/dY (and update parameters if any)\n",
    "    def backward_propagation(self, output_error, learning_rate):\n",
    "        raise NotImplementedError"
   ]
  },
  {
   "cell_type": "markdown",
   "metadata": {},
   "source": [
    "**Now let us implement a fully connected layer**\n",
    "\n",
    "- Output (prediction) formula\n",
    "\n",
    "$$\\hat{y} = activate(input * w + b) =  \\sigma(w_1 x_1 + w_2 x_2 + b)$$\n",
    "\n",
    "- Backpropagation\n",
    "\n",
    "$$ w_i \\longrightarrow w_i - \\alpha \\frac{dE}{dw_i}$$\n",
    "\n",
    "$$ b \\longrightarrow b - \\alpha \\frac{dE}{db}$$"
   ]
  },
  {
   "cell_type": "code",
   "execution_count": 18,
   "metadata": {},
   "outputs": [],
   "source": [
    "class FullyConnectedLayer(Layer):\n",
    "    # input_size = number of input neurons\n",
    "    # output_size = number of output neurons\n",
    "    def __init__(self, input_size, output_size):\n",
    "        self.weights = np.random.rand(input_size, output_size) - 0.5\n",
    "        self.bias = np.random.rand(1, output_size) - 0.5\n",
    "\n",
    "    # returns output for a given input\n",
    "    def forward_propagation(self, input_data):\n",
    "        self.input = input_data\n",
    "        self.output = np.dot(self.input, self.weights) + self.bias\n",
    "        return self.output\n",
    "\n",
    "    # computes dE/dW, dE/dB for a given output_error=dE/dY. Returns input_error=dE/dX.\n",
    "    def backward_propagation(self, output_error, learning_rate):\n",
    "        input_error = np.dot(output_error, self.weights.T)\n",
    "        weights_error = np.dot(self.input.T, output_error)\n",
    "        dBias = output_error\n",
    "\n",
    "        # update parameters\n",
    "        self.weights -= learning_rate * weights_error\n",
    "        self.bias -= learning_rate * dBias\n",
    "        return input_error"
   ]
  },
  {
   "cell_type": "code",
   "execution_count": 19,
   "metadata": {},
   "outputs": [],
   "source": [
    "class ActivationLayer(Layer):\n",
    "    def __init__(self, activation, activation_prime):\n",
    "        self.activation = activation\n",
    "        self.activation_prime = activation_prime\n",
    "\n",
    "    # returns the activated input\n",
    "    def forward_propagation(self, input_data):\n",
    "        self.input = input_data\n",
    "        self.output = self.activation(self.input)\n",
    "        return self.output\n",
    "\n",
    "    # Returns input_error=dE/dX for a given output_error=dE/dY.\n",
    "    # learning_rate is not used because there is no \"learnable\" parameters.\n",
    "    def backward_propagation(self, output_error, learning_rate):\n",
    "        return self.activation_prime(self.input) * output_error"
   ]
  },
  {
   "cell_type": "markdown",
   "metadata": {},
   "source": [
    "### Now we have all the elements to implement a neural network"
   ]
  },
  {
   "cell_type": "code",
   "execution_count": 20,
   "metadata": {},
   "outputs": [],
   "source": [
    "class NeuralNetwork:\n",
    "    def __init__(self, loss, loss_prime):\n",
    "        self.layers = [] \n",
    "        self.loss = loss\n",
    "        self.loss_prime = loss_prime\n",
    "        self.errors = []\n",
    "\n",
    "    # add layer to network\n",
    "    def add(self, layer):\n",
    "        self.layers.append(layer)\n",
    "\n",
    "    # train the network using the gradient descent algorithm\n",
    "    def train(self, x_train, y_train, epochs, learning_rate):\n",
    "        \n",
    "        # transform to tensor (3 dimensions matrix)\n",
    "        x_train = x_train.reshape(x_train.shape[0], 1, x_train.shape[1])\n",
    "        y_train = y_train.reshape(y_train.shape[0], 1, y_train.shape[1])\n",
    "        \n",
    "        # sample dimension first\n",
    "        samples = len(x_train)\n",
    "        # training loop\n",
    "        for epoch in range(epochs):\n",
    "            err = 0\n",
    "            for j in range(samples):\n",
    "                # forward propagation\n",
    "                output = x_train[j]\n",
    "                \n",
    "                for layer in self.layers:\n",
    "                    output = layer.forward_propagation(output)\n",
    "\n",
    "                # compute loss (for display purpose only)\n",
    "                err += self.loss(y_train[j], output)\n",
    "\n",
    "                # backward propagation\n",
    "                error = self.loss_prime(y_train[j], output)\n",
    "                  \n",
    "                for layer in reversed(self.layers):\n",
    "                    error = layer.backward_propagation(error, learning_rate)\n",
    "\n",
    "            # calculate average error on all samples\n",
    "            err /= samples\n",
    "            \n",
    "            self.errors.append(err)\n",
    "            \n",
    "            if (epoch % 100 == 0):\n",
    "                print('epoch %d/%d   error=%f' % (epoch, epochs, err))\n",
    "            \n",
    "    # predict output for given input\n",
    "    def predict(self, input_data, threshold = 0.5):\n",
    "        # sample dimension first\n",
    "        samples = len(input_data)\n",
    "        result = []\n",
    "\n",
    "        # run network over all samples\n",
    "        for i in range(samples):\n",
    "            # forward propagation\n",
    "            output = input_data[i]\n",
    "            for layer in self.layers:\n",
    "                output = layer.forward_propagation(output)\n",
    "            result.append(output)\n",
    "\n",
    "        return (np.asarray(result) > threshold).astype(int).flatten()"
   ]
  },
  {
   "cell_type": "markdown",
   "metadata": {},
   "source": [
    "### Train the neural network\n",
    "\n",
    "<img src=\"https://sebastianraschka.com/images/blog/2015/singlelayer_neural_networks_files/perceptron_schematic.png\">"
   ]
  },
  {
   "cell_type": "code",
   "execution_count": 21,
   "metadata": {},
   "outputs": [
    {
     "name": "stdout",
     "output_type": "stream",
     "text": [
      "epoch 0/1000   error=0.478380\n",
      "epoch 100/1000   error=0.257772\n",
      "epoch 200/1000   error=0.257772\n",
      "epoch 300/1000   error=0.257772\n",
      "epoch 400/1000   error=0.257772\n",
      "epoch 500/1000   error=0.257772\n",
      "epoch 600/1000   error=0.257772\n",
      "epoch 700/1000   error=0.257772\n",
      "epoch 800/1000   error=0.257772\n",
      "epoch 900/1000   error=0.257772\n"
     ]
    },
    {
     "data": {
      "image/png": "[encoded data removed]",
      "text/plain": [
       "<Figure size 432x288 with 1 Axes>"
      ]
     },
     "metadata": {
      "needs_background": "light"
     },
     "output_type": "display_data"
    }
   ],
   "source": [
    "net = NeuralNetwork(mse, mse_prime)\n",
    "\n",
    "net.add(FullyConnectedLayer(2, 1))\n",
    "\n",
    "net.train(X_train, y_train, epochs=1000, learning_rate=0.01)\n",
    "\n",
    "# Plotting the error\n",
    "plt.title(\"Error Plot\")\n",
    "plt.xlabel('Number of epochs')\n",
    "plt.ylabel('Error')\n",
    "plt.plot(net.errors)\n",
    "plt.show()"
   ]
  },
  {
   "cell_type": "markdown",
   "metadata": {},
   "source": [
    "## 3 -  Evaluate \n",
    "\n",
    "Once we've trained our neural network, we need to evaluate our model on test data: accuracy, false positive, true positive"
   ]
  },
  {
   "cell_type": "code",
   "execution_count": 22,
   "metadata": {},
   "outputs": [
    {
     "name": "stdout",
     "output_type": "stream",
     "text": [
      "Accuracy: 60.000%\n"
     ]
    }
   ],
   "source": [
    "predictions = net.predict(X_test, threshold = 0.5)\n",
    "accuracy = np.multiply(np.mean((predictions == y_test.flatten()).astype(int)), 100)\n",
    "print(\"Accuracy: {:.3f}%\".format(accuracy))"
   ]
  },
  {
   "cell_type": "code",
   "execution_count": 23,
   "metadata": {},
   "outputs": [],
   "source": [
    "def make_meshgrid(x, y, h=.02):\n",
    "    x_min, x_max = x.min() - 1, x.max() + 1\n",
    "    y_min, y_max = y.min() - 1, y.max() + 1\n",
    "    xx, yy = np.meshgrid(np.arange(x_min, x_max, h),\n",
    "                         np.arange(y_min, y_max, h))\n",
    "    return xx, yy\n",
    "\n",
    "def plot_descision_boundary(estimator, X, y):\n",
    "    X0, X1 = X[:, 0], X[:, 1]\n",
    "    xx, yy = make_meshgrid(X0, X1)\n",
    "    target = np.c_[xx.ravel(), yy.ravel()]\n",
    "    Z = estimator.predict(target)\n",
    "    Z = Z.reshape(xx.shape)\n",
    "    plt.contourf(xx, yy, Z, cmap=plt.cm.coolwarm, alpha=0.3)\n",
    "    sns.scatterplot(X0, X1, hue=y.flatten(), cmap=plt.cm.coolwarm, s=30, edgecolors='k')\n",
    "    plt.show()"
   ]
  },
  {
   "cell_type": "markdown",
   "metadata": {},
   "source": [
    "**Plot the descision boundary to get a visualization of what our neural networks have learned.**"
   ]
  },
  {
   "cell_type": "code",
   "execution_count": 24,
   "metadata": {},
   "outputs": [
    {
     "data": {
      "image/png": "[encoded data removed]",
      "text/plain": [
       "<Figure size 432x288 with 1 Axes>"
      ]
     },
     "metadata": {
      "needs_background": "light"
     },
     "output_type": "display_data"
    }
   ],
   "source": [
    "plot_descision_boundary(net, X_train, y_train)"
   ]
  },
  {
   "cell_type": "markdown",
   "metadata": {},
   "source": [
    "## 4 -  Predict on new unseen data"
   ]
  },
  {
   "cell_type": "code",
   "execution_count": 25,
   "metadata": {},
   "outputs": [
    {
     "data": {
      "text/plain": [
       "array([1])"
      ]
     },
     "execution_count": 25,
     "metadata": {},
     "output_type": "execute_result"
    }
   ],
   "source": [
    "net.predict(np.array([[-2, -1]]))"
   ]
  },
  {
   "cell_type": "markdown",
   "metadata": {},
   "source": [
    "On constate qu'un réseau de neurones avec un seul neuronne ne peut apprendre qu'une fonction lineaire W * X +b\n",
    "Donc résoudre notre problème de classification il faut que notre reseau de neurones apprenne une fonction non lineaire et pour faire cela on va combiner le resultat de plusieurs neuronnes ensemble.\n",
    "\n",
    "\n",
    "<img src=\"\">"
   ]
  },
  {
   "cell_type": "code",
   "execution_count": 26,
   "metadata": {},
   "outputs": [
    {
     "name": "stdout",
     "output_type": "stream",
     "text": [
      "epoch 0/1000   error=0.253492\n",
      "epoch 100/1000   error=0.202981\n",
      "epoch 200/1000   error=0.122869\n",
      "epoch 300/1000   error=0.117385\n",
      "epoch 400/1000   error=0.115621\n",
      "epoch 500/1000   error=0.114285\n",
      "epoch 600/1000   error=0.113305\n",
      "epoch 700/1000   error=0.112709\n",
      "epoch 800/1000   error=0.112204\n",
      "epoch 900/1000   error=0.111760\n"
     ]
    },
    {
     "data": {
      "image/png": "[encoded data removed]",
      "text/plain": [
       "<Figure size 432x288 with 1 Axes>"
      ]
     },
     "metadata": {
      "needs_background": "light"
     },
     "output_type": "display_data"
    }
   ],
   "source": [
    "net = NeuralNetwork(mse, mse_prime)\n",
    "\n",
    "net.add(FullyConnectedLayer(2, 2))\n",
    "net.add(ActivationLayer(sigmoid, sigmoid_prime))\n",
    "net.add(FullyConnectedLayer(2, 1))\n",
    "net.add(ActivationLayer(sigmoid, sigmoid_prime))\n",
    "\n",
    "net.train(X_train, y_train, epochs=1000, learning_rate=0.1)\n",
    "\n",
    "# Plotting the error\n",
    "plt.title(\"Error Plot\")\n",
    "plt.xlabel('Number of epochs')\n",
    "plt.ylabel('Error')\n",
    "plt.plot(net.errors)\n",
    "plt.show()"
   ]
  },
  {
   "cell_type": "code",
   "execution_count": 27,
   "metadata": {},
   "outputs": [
    {
     "name": "stdout",
     "output_type": "stream",
     "text": [
      "Accuracy: 60.000%\n"
     ]
    }
   ],
   "source": [
    "predictions = net.predict(X_test, threshold = 0.5)\n",
    "accuracy = np.multiply(np.mean((predictions == y_test.flatten()).astype(int)), 100)\n",
    "print(\"Accuracy: {:.3f}%\".format(accuracy))"
   ]
  },
  {
   "cell_type": "code",
   "execution_count": 28,
   "metadata": {},
   "outputs": [
    {
     "data": {
      "image/png": "[encoded data removed]",
      "text/plain": [
       "<Figure size 432x288 with 1 Axes>"
      ]
     },
     "metadata": {
      "needs_background": "light"
     },
     "output_type": "display_data"
    }
   ],
   "source": [
    "plot_descision_boundary(net, X_train, y_train)"
   ]
  },
  {
   "cell_type": "markdown",
   "metadata": {},
   "source": [
    "**On commence à apprendre des fonctions non linéaire mais on est encore loin du résultat attendu. On a joute donc encore plus de neurones.**"
   ]
  },
  {
   "cell_type": "code",
   "execution_count": 29,
   "metadata": {},
   "outputs": [
    {
     "name": "stdout",
     "output_type": "stream",
     "text": [
      "epoch 0/1000   error=0.255685\n",
      "epoch 100/1000   error=0.083852\n",
      "epoch 200/1000   error=0.027050\n",
      "epoch 300/1000   error=0.017826\n",
      "epoch 400/1000   error=0.013381\n",
      "epoch 500/1000   error=0.010787\n",
      "epoch 600/1000   error=0.009069\n",
      "epoch 700/1000   error=0.007834\n",
      "epoch 800/1000   error=0.006893\n",
      "epoch 900/1000   error=0.006142\n"
     ]
    },
    {
     "data": {
      "image/png": "[encoded data removed]",
      "text/plain": [
       "<Figure size 432x288 with 1 Axes>"
      ]
     },
     "metadata": {
      "needs_background": "light"
     },
     "output_type": "display_data"
    }
   ],
   "source": [
    "net = NeuralNetwork(mse, mse_prime)\n",
    "\n",
    "net.add(FullyConnectedLayer(2, 10))\n",
    "net.add(ActivationLayer(sigmoid, sigmoid_prime))\n",
    "net.add(FullyConnectedLayer(10, 1))\n",
    "net.add(ActivationLayer(sigmoid, sigmoid_prime))\n",
    "\n",
    "net.train(X_train, y_train, epochs=1000, learning_rate=0.1)\n",
    "\n",
    "# Plotting the error\n",
    "plt.title(\"Error Plot\")\n",
    "plt.xlabel('Number of epochs')\n",
    "plt.ylabel('Error')\n",
    "plt.plot(net.errors)\n",
    "plt.show()"
   ]
  },
  {
   "cell_type": "code",
   "execution_count": 30,
   "metadata": {},
   "outputs": [
    {
     "name": "stdout",
     "output_type": "stream",
     "text": [
      "Accuracy: 100.000%\n"
     ]
    }
   ],
   "source": [
    "predictions = net.predict(X_test, threshold = 0.5)\n",
    "accuracy = np.multiply(np.mean((predictions == y_test.flatten()).astype(int)), 100)\n",
    "print(\"Accuracy: {:.3f}%\".format(accuracy))"
   ]
  },
  {
   "cell_type": "code",
   "execution_count": 31,
   "metadata": {},
   "outputs": [
    {
     "data": {
      "image/png": "[encoded data removed]",
      "text/plain": [
       "<Figure size 432x288 with 1 Axes>"
      ]
     },
     "metadata": {
      "needs_background": "light"
     },
     "output_type": "display_data"
    }
   ],
   "source": [
    "plot_descision_boundary(net, X_train, y_train)"
   ]
  },
  {
   "cell_type": "code",
   "execution_count": null,
   "metadata": {},
   "outputs": [],
   "source": []
  }
 ],
 "metadata": {
  "kernelspec": {
   "display_name": "Python 3",
   "language": "python",
   "name": "python3"
  },
  "language_info": {
   "codemirror_mode": {
    "name": "ipython",
    "version": 3
   },
   "file_extension": ".py",
   "mimetype": "text/x-python",
   "name": "python",
   "nbconvert_exporter": "python",
   "pygments_lexer": "ipython3",
   "version": "3.7.1"
  }
 },
 "nbformat": 4,
 "nbformat_minor": 2
}
