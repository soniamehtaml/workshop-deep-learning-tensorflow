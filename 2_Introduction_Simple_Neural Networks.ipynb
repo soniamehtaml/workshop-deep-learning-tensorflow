{
 "cells": [
  {
   "cell_type": "markdown",
   "metadata": {},
   "source": [
    "# Neural Networks is a mathematical function that maps a given input to a desired output.\n",
    "\n",
    "A simple feedforward Neural Networks consist of the following components\n",
    "- An input layer, **x**\n",
    "- An arbitrary amount of **hidden layers**\n",
    "- An **output** layer, ŷ\n",
    "- A set of **weights** and **biases** between each layer, W and b\n",
    "- A choice of **activation function** (Sigmoid) for each hidden layer, σ."
   ]
  },
  {
   "cell_type": "markdown",
   "metadata": {},
   "source": [
    "<img src=\"https://cdn-images-1.medium.com/max/1600/1*sX6T0Y4aa3ARh7IBS_sdqw.png\">"
   ]
  },
  {
   "cell_type": "markdown",
   "metadata": {},
   "source": [
    "We exclude the input layer when counting the number of neurons\n"
   ]
  },
  {
   "cell_type": "code",
   "execution_count": 2,
   "metadata": {},
   "outputs": [],
   "source": [
    "import numpy as np\n",
    "\n",
    "def sigmoid(x):\n",
    "    return 1.0/(1+ np.exp(-x))\n",
    "\n",
    "def sigmoid_derivative(x):\n",
    "    return x * (1.0 - x)"
   ]
  },
  {
   "cell_type": "markdown",
   "metadata": {},
   "source": [
    "## Creating the neural network\n",
    "\n"
   ]
  },
  {
   "cell_type": "code",
   "execution_count": 111,
   "metadata": {},
   "outputs": [],
   "source": [
    "class NeuralNetwork:\n",
    "    def __init__(self, x, y):\n",
    "        self.input      = x\n",
    "        self.weights1   = np.random.rand(self.input.shape[1],4) \n",
    "        self.weights2   = np.random.rand(4,1) \n",
    "        self.y          = y\n",
    "        self.output     = None"
   ]
  },
  {
   "cell_type": "markdown",
   "metadata": {},
   "source": [
    "## Training the neural network\n",
    "\n",
    "Is the process of fine-tuning the weights and biases from the input data"
   ]
  },
  {
   "cell_type": "markdown",
   "metadata": {},
   "source": [
    "The output ŷ of a simple 2-layer Neural Network is:\n",
    "\n",
    "<img src=\"https://cdn-images-1.medium.com/max/1600/1*E1_l8PGamc2xTNS87XGNcA.png\">"
   ]
  },
  {
   "cell_type": "markdown",
   "metadata": {},
   "source": [
    "Each iteration of the training process consists of the following steps:\n",
    "\n",
    "- Calculating the predicted output ŷ, known as **feedforward**\n",
    "- **Updating** the **weights** and **biases**, known as **backpropagation**"
   ]
  },
  {
   "cell_type": "markdown",
   "metadata": {},
   "source": [
    "<img src=\"https://cdn-images-1.medium.com/max/1600/1*CEtt0h8Rss_qPu7CyqMTdQ.png\">"
   ]
  },
  {
   "cell_type": "markdown",
   "metadata": {},
   "source": [
    "### 1 - Feedforward"
   ]
  },
  {
   "cell_type": "code",
   "execution_count": 94,
   "metadata": {},
   "outputs": [],
   "source": [
    "class NeuralNetwork:\n",
    "    def __init__(self, x, y):\n",
    "        self.input      = x\n",
    "        self.weights1   = np.random.rand(self.input.shape[1],4) \n",
    "        self.weights2   = np.random.rand(4,1) \n",
    "        self.y          = y\n",
    "        self.output     = None\n",
    "\n",
    "    def feedforward(self):\n",
    "        self.layer1 = sigmoid(np.dot(self.input, self.weights1))\n",
    "        self.output = sigmoid(np.dot(self.layer1, self.weights2))"
   ]
  },
  {
   "cell_type": "markdown",
   "metadata": {},
   "source": [
    "Now we need a way to evaluate the “goodness” of our predictions **The Loss Function** allows us to do exactly that."
   ]
  },
  {
   "cell_type": "markdown",
   "metadata": {},
   "source": [
    "### 2 - Loss function\n",
    "\n",
    "There are many available loss functions, and the nature of our problem should dictate our choice of loss function.\n",
    "We’ll use a simple sum-of-sqaures error as our loss function.\n",
    "\n",
    "**Our goal in training is to find the best set of weights and biases that minimizes the loss function.**\n",
    "\n",
    "<img src=\"https://cdn-images-1.medium.com/max/1600/1*iNa1VLdaeqwUAxpNXs3jwQ.png\">"
   ]
  },
  {
   "cell_type": "markdown",
   "metadata": {},
   "source": [
    "### 3 - Backpropagation\n",
    "\n",
    "Now that we’ve measured the error of our prediction (loss), we need to find a way to propagate the error back, and to update our weights and biases.\n",
    "In order to know the appropriate amount to adjust the weights and biases by, we need to know the derivative of the loss function with respect to the weights and biases.\n",
    "\n",
    "In order to know the appropriate amount to adjust the weights and biases by, we need to know the derivative of the loss function with respect to the weights and biases.\n",
    "\n",
    "<img src=\"https://cdn-images-1.medium.com/max/1600/1*3FgDOt4kJxK2QZlb9T0cpg.png\"/>"
   ]
  },
  {
   "cell_type": "markdown",
   "metadata": {},
   "source": [
    "If we have the derivative, we can simply update the weights and biases by increasing/reducing with it(refer to the diagram above). **This is known as gradient descent.**"
   ]
  },
  {
   "cell_type": "markdown",
   "metadata": {},
   "source": [
    "However, we can’t directly calculate the derivative of the loss function with respect to the weights and biases because the equation of the loss function does not contain the weights and biases. Therefore, we need the **chain rule** to help us calculate it.\n",
    "\n",
    "<img src=\"https://cdn-images-1.medium.com/max/1600/1*7zxb2lfWWKaVxnmq2o69Mw.png\"/>"
   ]
  },
  {
   "cell_type": "markdown",
   "metadata": {},
   "source": [
    "The derivative (slope) of the loss function with respect to the weights, so that we can adjust the weights accordingly."
   ]
  },
  {
   "cell_type": "code",
   "execution_count": 3,
   "metadata": {},
   "outputs": [],
   "source": [
    "class NeuralNetwork:\n",
    "    def __init__(self, x, y):\n",
    "        self.input      = x\n",
    "        self.weights1   = np.random.rand(self.input.shape[1],4) \n",
    "        self.weights2   = np.random.rand(4,1)                 \n",
    "        self.y          = y\n",
    "        self.output     = None\n",
    "\n",
    "    def feedforward(self):\n",
    "        self.layer1 = sigmoid(np.dot(self.input, self.weights1))\n",
    "        self.output = sigmoid(np.dot(self.layer1, self.weights2))\n",
    "\n",
    "    def backprop(self):\n",
    "        # application of the chain rule to find derivative of the loss function with respect to weights2 and weights1\n",
    "        d_weights2 = np.dot(self.layer1.T, (2*(self.y - self.output) * sigmoid_derivative(self.output)))\n",
    "        d_weights1 = np.dot(self.input.T,  (np.dot(2*(self.y - self.output) * sigmoid_derivative(self.output), self.weights2.T) * sigmoid_derivative(self.layer1)))\n",
    "\n",
    "        # update the weights with the derivative (slope) of the loss function\n",
    "        self.weights1 += d_weights1\n",
    "        self.weights2 += d_weights2"
   ]
  },
  {
   "cell_type": "code",
   "execution_count": 46,
   "metadata": {},
   "outputs": [
    {
     "name": "stdout",
     "output_type": "stream",
     "text": [
      "prediction \n",
      " [[0.99255864]\n",
      " [0.98653431]\n",
      " [0.01731808]\n",
      " [0.98652173]\n",
      " [0.98327058]\n",
      " [0.9816956 ]\n",
      " [0.0165097 ]\n",
      " [0.98918132]\n",
      " [0.98168921]\n",
      " [0.0044024 ]\n",
      " [0.01650284]\n",
      " [0.00257638]\n",
      " [0.98396204]\n",
      " [0.00257639]\n",
      " [0.50487176]\n",
      " [0.97093325]]\n",
      "true values \n",
      " [[1]\n",
      " [1]\n",
      " [0]\n",
      " [1]\n",
      " [1]\n",
      " [1]\n",
      " [0]\n",
      " [1]\n",
      " [1]\n",
      " [0]\n",
      " [0]\n",
      " [0]\n",
      " [1]\n",
      " [0]\n",
      " [0]\n",
      " [1]]\n"
     ]
    }
   ],
   "source": [
    " X = np.array([[0,0,0,0],\n",
    "                   [1,0,0,0],\n",
    "                   [0,1,0,0],\n",
    "                   [0,0,1,0],\n",
    "                   [0,0,0,1],\n",
    "                   [1,1,0,0],\n",
    "                   [0,0,1,1],\n",
    "                   [1,0,1,0],\n",
    "                   [0,1,1,0],\n",
    "                   [0,1,0,1],\n",
    "                   [1,0,0,1],\n",
    "                   [0,1,1,1],\n",
    "                   [1,0,1,1],\n",
    "                   [1,1,0,1],\n",
    "                   [1,1,1,0],\n",
    "                   [1,1,1,1]])\n",
    "    \n",
    "y = np.array([[1],[1],[0],[1],[1],[1],[0],[1],[1],[0],[0],[0],[1],[0],[0],[1]])\n",
    "\n",
    "\n",
    "nn = NeuralNetwork(X, y)\n",
    "\n",
    "errors = []\n",
    "accuracies = []\n",
    "for epoch in range(1500):\n",
    "    \n",
    "    nn.feedforward()\n",
    "    error = np.mean(np.power(y - nn.output, 2))# artithmetic mean (sum/count)\n",
    "    errors.append(error)\n",
    "    accuracy = np.mean(((nn.output > 0.9).astype(int) == y).astype(float))\n",
    "    accuracies.append(accuracy)\n",
    "    nn.backprop()\n",
    "    \n",
    "print('prediction \\n', nn.output)\n",
    "print('true values \\n', y)"
   ]
  },
  {
   "cell_type": "code",
   "execution_count": 47,
   "metadata": {},
   "outputs": [
    {
     "data": {
      "image/png": "[encoded data removed]",
      "text/plain": [
       "<Figure size 432x288 with 1 Axes>"
      ]
     },
     "metadata": {
      "needs_background": "light"
     },
     "output_type": "display_data"
    },
    {
     "data": {
      "image/png": "[encoded data removed]",
      "text/plain": [
       "<Figure size 432x288 with 1 Axes>"
      ]
     },
     "metadata": {
      "needs_background": "light"
     },
     "output_type": "display_data"
    }
   ],
   "source": [
    "%matplotlib inline\n",
    "import matplotlib.pyplot as plt\n",
    "\n",
    "plt.title(\"Error Plot\")\n",
    "plt.xlabel('Number of epochs')\n",
    "plt.ylabel('Error')\n",
    "plt.plot(errors)\n",
    "plt.show()\n",
    "plt.title(\"Accuracy Plot\")\n",
    "plt.xlabel('Number of epochs')\n",
    "plt.ylabel('Accuracy')\n",
    "plt.plot(accuracies)\n",
    "plt.show()"
   ]
  }
 ],
 "metadata": {
  "kernelspec": {
   "display_name": "Python 3",
   "language": "python",
   "name": "python3"
  },
  "language_info": {
   "codemirror_mode": {
    "name": "ipython",
    "version": 3
   },
   "file_extension": ".py",
   "mimetype": "text/x-python",
   "name": "python",
   "nbconvert_exporter": "python",
   "pygments_lexer": "ipython3",
   "version": "3.7.2"
  }
 },
 "nbformat": 4,
 "nbformat_minor": 2
}
